{
 "cells": [
  {
   "cell_type": "code",
   "execution_count": 1,
   "metadata": {},
   "outputs": [],
   "source": [
    "import pandas as pd\n",
    "import numpy as np\n",
    "import matplotlib.pyplot as plt"
   ]
  },
  {
   "attachments": {},
   "cell_type": "markdown",
   "metadata": {},
   "source": [
    "### Ejercicio 1.\n",
    "Extraer los siguentes estadísticos del conjunto de datos para varias de las varibles disponibles:"
   ]
  },
  {
   "attachments": {},
   "cell_type": "markdown",
   "metadata": {},
   "source": [
    "* Utilizando métodos de pandas: media, mediana, moda, máximo y mínimo"
   ]
  },
  {
   "cell_type": "code",
   "execution_count": 2,
   "metadata": {},
   "outputs": [
    {
     "data": {
      "text/html": [
       "<div>\n",
       "<style scoped>\n",
       "    .dataframe tbody tr th:only-of-type {\n",
       "        vertical-align: middle;\n",
       "    }\n",
       "\n",
       "    .dataframe tbody tr th {\n",
       "        vertical-align: top;\n",
       "    }\n",
       "\n",
       "    .dataframe thead th {\n",
       "        text-align: right;\n",
       "    }\n",
       "</style>\n",
       "<table border=\"1\" class=\"dataframe\">\n",
       "  <thead>\n",
       "    <tr style=\"text-align: right;\">\n",
       "      <th></th>\n",
       "      <th>Country</th>\n",
       "      <th>Rank</th>\n",
       "      <th>Account</th>\n",
       "      <th>Title</th>\n",
       "      <th>Link</th>\n",
       "      <th>Category</th>\n",
       "      <th>Followers</th>\n",
       "      <th>Audience Country</th>\n",
       "      <th>Authentic engagement</th>\n",
       "      <th>Engagement avg</th>\n",
       "      <th>Scraped</th>\n",
       "    </tr>\n",
       "  </thead>\n",
       "  <tbody>\n",
       "    <tr>\n",
       "      <th>0</th>\n",
       "      <td>All</td>\n",
       "      <td>1</td>\n",
       "      <td>cristiano</td>\n",
       "      <td>Cristiano Ronaldo</td>\n",
       "      <td>https://www.instagram.com/cristiano/</td>\n",
       "      <td>Sports with a ball</td>\n",
       "      <td>400100000.0</td>\n",
       "      <td>India</td>\n",
       "      <td>7800000.0</td>\n",
       "      <td>9500000.0</td>\n",
       "      <td>2022-02-07 16:50:24.798803</td>\n",
       "    </tr>\n",
       "    <tr>\n",
       "      <th>1</th>\n",
       "      <td>All</td>\n",
       "      <td>2</td>\n",
       "      <td>kyliejenner</td>\n",
       "      <td>Kylie 🤍</td>\n",
       "      <td>https://www.instagram.com/kyliejenner/</td>\n",
       "      <td>Fashion|Modeling|Beauty</td>\n",
       "      <td>308800000.0</td>\n",
       "      <td>United States</td>\n",
       "      <td>6200000.0</td>\n",
       "      <td>10100000.0</td>\n",
       "      <td>2022-02-07 16:50:24.798803</td>\n",
       "    </tr>\n",
       "    <tr>\n",
       "      <th>2</th>\n",
       "      <td>All</td>\n",
       "      <td>3</td>\n",
       "      <td>leomessi</td>\n",
       "      <td>Leo Messi</td>\n",
       "      <td>https://www.instagram.com/leomessi/</td>\n",
       "      <td>Sports with a ball|Family</td>\n",
       "      <td>306300000.0</td>\n",
       "      <td>Argentina</td>\n",
       "      <td>4800000.0</td>\n",
       "      <td>6500000.0</td>\n",
       "      <td>2022-02-07 16:50:24.798803</td>\n",
       "    </tr>\n",
       "  </tbody>\n",
       "</table>\n",
       "</div>"
      ],
      "text/plain": [
       "  Country  Rank      Account              Title  \\\n",
       "0     All     1    cristiano  Cristiano Ronaldo   \n",
       "1     All     2  kyliejenner            Kylie 🤍   \n",
       "2     All     3     leomessi          Leo Messi   \n",
       "\n",
       "                                     Link                   Category  \\\n",
       "0    https://www.instagram.com/cristiano/         Sports with a ball   \n",
       "1  https://www.instagram.com/kyliejenner/    Fashion|Modeling|Beauty   \n",
       "2     https://www.instagram.com/leomessi/  Sports with a ball|Family   \n",
       "\n",
       "     Followers Audience Country  Authentic engagement  Engagement avg  \\\n",
       "0  400100000.0            India             7800000.0       9500000.0   \n",
       "1  308800000.0    United States             6200000.0      10100000.0   \n",
       "2  306300000.0        Argentina             4800000.0       6500000.0   \n",
       "\n",
       "                      Scraped  \n",
       "0  2022-02-07 16:50:24.798803  \n",
       "1  2022-02-07 16:50:24.798803  \n",
       "2  2022-02-07 16:50:24.798803  "
      ]
     },
     "execution_count": 2,
     "metadata": {},
     "output_type": "execute_result"
    }
   ],
   "source": [
    "df_influencers = pd.read_csv('../Estadistica/instagram_global_top_1000.csv')\n",
    "df_influencers.head(3)"
   ]
  },
  {
   "attachments": {},
   "cell_type": "markdown",
   "metadata": {},
   "source": [
    "* media"
   ]
  },
  {
   "cell_type": "code",
   "execution_count": 4,
   "metadata": {},
   "outputs": [
    {
     "name": "stdout",
     "output_type": "stream",
     "text": [
      "Cada influencer tiene una media de 24836100.0 seguidores.\n"
     ]
    }
   ],
   "source": [
    "print(\"Cada influencer tiene una media de\", df_influencers[\"Followers\"].mean(),\"seguidores.\")"
   ]
  },
  {
   "cell_type": "code",
   "execution_count": 10,
   "metadata": {},
   "outputs": [
    {
     "name": "stdout",
     "output_type": "stream",
     "text": [
      "Una media de 649122.8 seguidores son interactivos con los influercers a los que siguen.\n"
     ]
    }
   ],
   "source": [
    "print(\"Una media de\",df_influencers[\"Authentic engagement\"].mean(),\"seguidores son interactivos con los influercers a los que siguen.\")"
   ]
  },
  {
   "attachments": {},
   "cell_type": "markdown",
   "metadata": {},
   "source": [
    "* mediana"
   ]
  },
  {
   "cell_type": "code",
   "execution_count": 12,
   "metadata": {},
   "outputs": [
    {
     "name": "stdout",
     "output_type": "stream",
     "text": [
      "El valor que ocupa el lugar central en la lista Followers es  14400000.0 , y en Authentic engagement 363700.0\n"
     ]
    }
   ],
   "source": [
    "print(f\"El valor que ocupa el lugar central en la lista Followers es \", df_influencers[\"Followers\"].median(),\", y en Authentic engagement\", df_influencers[\"Authentic engagement\"].median())"
   ]
  },
  {
   "attachments": {},
   "cell_type": "markdown",
   "metadata": {},
   "source": [
    "* moda"
   ]
  },
  {
   "cell_type": "code",
   "execution_count": 15,
   "metadata": {},
   "outputs": [
    {
     "name": "stdout",
     "output_type": "stream",
     "text": [
      "El valor que más se repite en la columna Followers es 7800000.0 , y en la de Authentic engagement 1100000.0\n"
     ]
    }
   ],
   "source": [
    "print(f\"El valor que más se repite en la columna Followers es\", df_influencers[\"Followers\"].mode()[0],\", y en la de Authentic engagement\", df_influencers[\"Authentic engagement\"].mode()[0])"
   ]
  },
  {
   "cell_type": "code",
   "execution_count": 18,
   "metadata": {},
   "outputs": [
    {
     "name": "stdout",
     "output_type": "stream",
     "text": [
      "El número máximo de seguidores que tiene un influencer es 469600000.0 , y de Authentic engagement 13400000.0\n"
     ]
    }
   ],
   "source": [
    "print(f\"El número máximo de seguidores que tiene un influencer es\", df_influencers[\"Followers\"].max(),\", y de Authentic engagement\", df_influencers[\"Authentic engagement\"].max())"
   ]
  },
  {
   "attachments": {},
   "cell_type": "markdown",
   "metadata": {},
   "source": [
    "* mínimo"
   ]
  },
  {
   "cell_type": "code",
   "execution_count": 19,
   "metadata": {},
   "outputs": [
    {
     "name": "stdout",
     "output_type": "stream",
     "text": [
      "El número mínimo de seguidores que tiene un influencer es 2800000.0 , y de Authentic engagement 0.0\n"
     ]
    }
   ],
   "source": [
    "print(f\"El número mínimo de seguidores que tiene un influencer es\", df_influencers[\"Followers\"].min(),\", y de Authentic engagement\", df_influencers[\"Authentic engagement\"].min())"
   ]
  },
  {
   "attachments": {},
   "cell_type": "markdown",
   "metadata": {},
   "source": [
    "* Percentiles 25, 75"
   ]
  },
  {
   "cell_type": "code",
   "execution_count": 8,
   "metadata": {},
   "outputs": [
    {
     "data": {
      "text/plain": [
       "9000000.0"
      ]
     },
     "execution_count": 8,
     "metadata": {},
     "output_type": "execute_result"
    }
   ],
   "source": [
    "p25_influencers = np.percentile(df_influencers['Followers'], 25)\n",
    "p25_influencers"
   ]
  },
  {
   "cell_type": "code",
   "execution_count": 9,
   "metadata": {},
   "outputs": [
    {
     "data": {
      "text/plain": [
       "25650000.0"
      ]
     },
     "execution_count": 9,
     "metadata": {},
     "output_type": "execute_result"
    }
   ],
   "source": [
    "p75_influencers = np.percentile(df_influencers['Followers'], 75)\n",
    "p75_influencers"
   ]
  },
  {
   "attachments": {},
   "cell_type": "markdown",
   "metadata": {},
   "source": [
    "* Rango Intercualtílico\n"
   ]
  },
  {
   "cell_type": "code",
   "execution_count": 11,
   "metadata": {},
   "outputs": [
    {
     "data": {
      "text/plain": [
       "16650000.0"
      ]
     },
     "execution_count": 11,
     "metadata": {},
     "output_type": "execute_result"
    }
   ],
   "source": [
    "ran_int_df = p75_influencers - p25_influencers\n",
    "ran_int_df"
   ]
  },
  {
   "attachments": {},
   "cell_type": "markdown",
   "metadata": {},
   "source": [
    "* Boxplot de algunas variables:\n",
    "\n",
    "    * Boxplot de 'Followers'."
   ]
  },
  {
   "cell_type": "code",
   "execution_count": 12,
   "metadata": {},
   "outputs": [
    {
     "data": {
      "image/png": "[encoded data removed]",
      "text/plain": [
       "<Figure size 640x480 with 1 Axes>"
      ]
     },
     "metadata": {},
     "output_type": "display_data"
    }
   ],
   "source": [
    "plt.figure()\n",
    "plt.boxplot(df_influencers['Followers'])\n",
    "plt.show();"
   ]
  },
  {
   "attachments": {},
   "cell_type": "markdown",
   "metadata": {},
   "source": [
    "* *  Boxplot de 'Authentic Engagement':"
   ]
  },
  {
   "cell_type": "code",
   "execution_count": 13,
   "metadata": {},
   "outputs": [
    {
     "data": {
      "image/png": "[encoded data removed]",
      "text/plain": [
       "<Figure size 640x480 with 1 Axes>"
      ]
     },
     "metadata": {},
     "output_type": "display_data"
    }
   ],
   "source": [
    "plt.figure()\n",
    "plt.boxplot(df_influencers['Authentic engagement'])\n",
    "plt.show();"
   ]
  },
  {
   "attachments": {},
   "cell_type": "markdown",
   "metadata": {},
   "source": [
    "* Tabla de frecuencias:\n",
    "\n",
    "\n",
    "    * Variable cualitativa:"
   ]
  },
  {
   "cell_type": "code",
   "execution_count": 14,
   "metadata": {},
   "outputs": [
    {
     "data": {
      "text/html": [
       "<div>\n",
       "<style scoped>\n",
       "    .dataframe tbody tr th:only-of-type {\n",
       "        vertical-align: middle;\n",
       "    }\n",
       "\n",
       "    .dataframe tbody tr th {\n",
       "        vertical-align: top;\n",
       "    }\n",
       "\n",
       "    .dataframe thead th {\n",
       "        text-align: right;\n",
       "    }\n",
       "</style>\n",
       "<table border=\"1\" class=\"dataframe\">\n",
       "  <thead>\n",
       "    <tr style=\"text-align: right;\">\n",
       "      <th></th>\n",
       "      <th>index</th>\n",
       "      <th>Audience Country</th>\n",
       "    </tr>\n",
       "  </thead>\n",
       "  <tbody>\n",
       "    <tr>\n",
       "      <th>0</th>\n",
       "      <td>United States</td>\n",
       "      <td>283</td>\n",
       "    </tr>\n",
       "    <tr>\n",
       "      <th>1</th>\n",
       "      <td>Brazil</td>\n",
       "      <td>161</td>\n",
       "    </tr>\n",
       "    <tr>\n",
       "      <th>2</th>\n",
       "      <td>India</td>\n",
       "      <td>143</td>\n",
       "    </tr>\n",
       "    <tr>\n",
       "      <th>3</th>\n",
       "      <td>Indonesia</td>\n",
       "      <td>130</td>\n",
       "    </tr>\n",
       "    <tr>\n",
       "      <th>4</th>\n",
       "      <td>Mexico</td>\n",
       "      <td>50</td>\n",
       "    </tr>\n",
       "    <tr>\n",
       "      <th>5</th>\n",
       "      <td>Spain</td>\n",
       "      <td>34</td>\n",
       "    </tr>\n",
       "    <tr>\n",
       "      <th>6</th>\n",
       "      <td>Russia</td>\n",
       "      <td>30</td>\n",
       "    </tr>\n",
       "    <tr>\n",
       "      <th>7</th>\n",
       "      <td>Argentina</td>\n",
       "      <td>24</td>\n",
       "    </tr>\n",
       "    <tr>\n",
       "      <th>8</th>\n",
       "      <td>Iran</td>\n",
       "      <td>17</td>\n",
       "    </tr>\n",
       "    <tr>\n",
       "      <th>9</th>\n",
       "      <td>United Kingdom</td>\n",
       "      <td>17</td>\n",
       "    </tr>\n",
       "    <tr>\n",
       "      <th>10</th>\n",
       "      <td>Turkey</td>\n",
       "      <td>16</td>\n",
       "    </tr>\n",
       "    <tr>\n",
       "      <th>11</th>\n",
       "      <td>Italy</td>\n",
       "      <td>15</td>\n",
       "    </tr>\n",
       "    <tr>\n",
       "      <th>12</th>\n",
       "      <td>South Korea</td>\n",
       "      <td>13</td>\n",
       "    </tr>\n",
       "    <tr>\n",
       "      <th>13</th>\n",
       "      <td>Colombia</td>\n",
       "      <td>9</td>\n",
       "    </tr>\n",
       "    <tr>\n",
       "      <th>14</th>\n",
       "      <td>Philippines</td>\n",
       "      <td>7</td>\n",
       "    </tr>\n",
       "    <tr>\n",
       "      <th>15</th>\n",
       "      <td>France</td>\n",
       "      <td>6</td>\n",
       "    </tr>\n",
       "    <tr>\n",
       "      <th>16</th>\n",
       "      <td>Egypt</td>\n",
       "      <td>6</td>\n",
       "    </tr>\n",
       "    <tr>\n",
       "      <th>17</th>\n",
       "      <td>Germany</td>\n",
       "      <td>5</td>\n",
       "    </tr>\n",
       "    <tr>\n",
       "      <th>18</th>\n",
       "      <td>Nigeria</td>\n",
       "      <td>4</td>\n",
       "    </tr>\n",
       "    <tr>\n",
       "      <th>19</th>\n",
       "      <td>Thailand</td>\n",
       "      <td>4</td>\n",
       "    </tr>\n",
       "    <tr>\n",
       "      <th>20</th>\n",
       "      <td>Iraq</td>\n",
       "      <td>4</td>\n",
       "    </tr>\n",
       "    <tr>\n",
       "      <th>21</th>\n",
       "      <td>Morocco</td>\n",
       "      <td>3</td>\n",
       "    </tr>\n",
       "    <tr>\n",
       "      <th>22</th>\n",
       "      <td>Japan</td>\n",
       "      <td>2</td>\n",
       "    </tr>\n",
       "    <tr>\n",
       "      <th>23</th>\n",
       "      <td>Saudi Arabia</td>\n",
       "      <td>2</td>\n",
       "    </tr>\n",
       "    <tr>\n",
       "      <th>24</th>\n",
       "      <td>Kazakhstan</td>\n",
       "      <td>2</td>\n",
       "    </tr>\n",
       "    <tr>\n",
       "      <th>25</th>\n",
       "      <td>Syria</td>\n",
       "      <td>1</td>\n",
       "    </tr>\n",
       "    <tr>\n",
       "      <th>26</th>\n",
       "      <td>China</td>\n",
       "      <td>1</td>\n",
       "    </tr>\n",
       "    <tr>\n",
       "      <th>27</th>\n",
       "      <td>Algeria</td>\n",
       "      <td>1</td>\n",
       "    </tr>\n",
       "    <tr>\n",
       "      <th>28</th>\n",
       "      <td>United Arab Emirates</td>\n",
       "      <td>1</td>\n",
       "    </tr>\n",
       "    <tr>\n",
       "      <th>29</th>\n",
       "      <td>Poland</td>\n",
       "      <td>1</td>\n",
       "    </tr>\n",
       "    <tr>\n",
       "      <th>30</th>\n",
       "      <td>Chile</td>\n",
       "      <td>1</td>\n",
       "    </tr>\n",
       "  </tbody>\n",
       "</table>\n",
       "</div>"
      ],
      "text/plain": [
       "                   index  Audience Country\n",
       "0          United States               283\n",
       "1                 Brazil               161\n",
       "2                  India               143\n",
       "3              Indonesia               130\n",
       "4                 Mexico                50\n",
       "5                  Spain                34\n",
       "6                 Russia                30\n",
       "7              Argentina                24\n",
       "8                   Iran                17\n",
       "9         United Kingdom                17\n",
       "10                Turkey                16\n",
       "11                 Italy                15\n",
       "12           South Korea                13\n",
       "13              Colombia                 9\n",
       "14           Philippines                 7\n",
       "15                France                 6\n",
       "16                 Egypt                 6\n",
       "17               Germany                 5\n",
       "18               Nigeria                 4\n",
       "19              Thailand                 4\n",
       "20                  Iraq                 4\n",
       "21               Morocco                 3\n",
       "22                 Japan                 2\n",
       "23          Saudi Arabia                 2\n",
       "24            Kazakhstan                 2\n",
       "25                 Syria                 1\n",
       "26                 China                 1\n",
       "27               Algeria                 1\n",
       "28  United Arab Emirates                 1\n",
       "29                Poland                 1\n",
       "30                 Chile                 1"
      ]
     },
     "execution_count": 14,
     "metadata": {},
     "output_type": "execute_result"
    }
   ],
   "source": [
    "freq_paises = df_influencers['Audience Country'].value_counts()\n",
    "freq_paises = freq_paises.reset_index()\n",
    "freq_paises"
   ]
  },
  {
   "attachments": {},
   "cell_type": "markdown",
   "metadata": {},
   "source": [
    "* Variables cuantitativas:"
   ]
  },
  {
   "cell_type": "code",
   "execution_count": 9,
   "metadata": {},
   "outputs": [
    {
     "data": {
      "text/html": [
       "<div>\n",
       "<style scoped>\n",
       "    .dataframe tbody tr th:only-of-type {\n",
       "        vertical-align: middle;\n",
       "    }\n",
       "\n",
       "    .dataframe tbody tr th {\n",
       "        vertical-align: top;\n",
       "    }\n",
       "\n",
       "    .dataframe thead th {\n",
       "        text-align: right;\n",
       "    }\n",
       "</style>\n",
       "<table border=\"1\" class=\"dataframe\">\n",
       "  <thead>\n",
       "    <tr style=\"text-align: right;\">\n",
       "      <th></th>\n",
       "      <th>index</th>\n",
       "      <th>Followers</th>\n",
       "    </tr>\n",
       "  </thead>\n",
       "  <tbody>\n",
       "    <tr>\n",
       "      <th>0</th>\n",
       "      <td>7800000.0</td>\n",
       "      <td>14</td>\n",
       "    </tr>\n",
       "    <tr>\n",
       "      <th>1</th>\n",
       "      <td>9900000.0</td>\n",
       "      <td>12</td>\n",
       "    </tr>\n",
       "    <tr>\n",
       "      <th>2</th>\n",
       "      <td>6700000.0</td>\n",
       "      <td>10</td>\n",
       "    </tr>\n",
       "    <tr>\n",
       "      <th>3</th>\n",
       "      <td>9300000.0</td>\n",
       "      <td>10</td>\n",
       "    </tr>\n",
       "    <tr>\n",
       "      <th>4</th>\n",
       "      <td>13300000.0</td>\n",
       "      <td>10</td>\n",
       "    </tr>\n",
       "    <tr>\n",
       "      <th>...</th>\n",
       "      <td>...</td>\n",
       "      <td>...</td>\n",
       "    </tr>\n",
       "    <tr>\n",
       "      <th>394</th>\n",
       "      <td>33100000.0</td>\n",
       "      <td>1</td>\n",
       "    </tr>\n",
       "    <tr>\n",
       "      <th>395</th>\n",
       "      <td>48500000.0</td>\n",
       "      <td>1</td>\n",
       "    </tr>\n",
       "    <tr>\n",
       "      <th>396</th>\n",
       "      <td>51900000.0</td>\n",
       "      <td>1</td>\n",
       "    </tr>\n",
       "    <tr>\n",
       "      <th>397</th>\n",
       "      <td>25200000.0</td>\n",
       "      <td>1</td>\n",
       "    </tr>\n",
       "    <tr>\n",
       "      <th>398</th>\n",
       "      <td>6200000.0</td>\n",
       "      <td>1</td>\n",
       "    </tr>\n",
       "  </tbody>\n",
       "</table>\n",
       "<p>399 rows × 2 columns</p>\n",
       "</div>"
      ],
      "text/plain": [
       "          index  Followers\n",
       "0     7800000.0         14\n",
       "1     9900000.0         12\n",
       "2     6700000.0         10\n",
       "3     9300000.0         10\n",
       "4    13300000.0         10\n",
       "..          ...        ...\n",
       "394  33100000.0          1\n",
       "395  48500000.0          1\n",
       "396  51900000.0          1\n",
       "397  25200000.0          1\n",
       "398   6200000.0          1\n",
       "\n",
       "[399 rows x 2 columns]"
      ]
     },
     "execution_count": 9,
     "metadata": {},
     "output_type": "execute_result"
    }
   ],
   "source": [
    "freq_followers = (df_influencers['Followers'].value_counts()).reset_index()\n",
    "freq_followers"
   ]
  },
  {
   "attachments": {},
   "cell_type": "markdown",
   "metadata": {},
   "source": [
    "* Frecuencia acumulada:"
   ]
  },
  {
   "cell_type": "code",
   "execution_count": 52,
   "metadata": {},
   "outputs": [
    {
     "data": {
      "text/html": [
       "<div>\n",
       "<style scoped>\n",
       "    .dataframe tbody tr th:only-of-type {\n",
       "        vertical-align: middle;\n",
       "    }\n",
       "\n",
       "    .dataframe tbody tr th {\n",
       "        vertical-align: top;\n",
       "    }\n",
       "\n",
       "    .dataframe thead th {\n",
       "        text-align: right;\n",
       "    }\n",
       "</style>\n",
       "<table border=\"1\" class=\"dataframe\">\n",
       "  <thead>\n",
       "    <tr style=\"text-align: right;\">\n",
       "      <th></th>\n",
       "      <th>index</th>\n",
       "      <th>Audience Country</th>\n",
       "    </tr>\n",
       "  </thead>\n",
       "  <tbody>\n",
       "    <tr>\n",
       "      <th>0</th>\n",
       "      <td>United States</td>\n",
       "      <td>283</td>\n",
       "    </tr>\n",
       "    <tr>\n",
       "      <th>1</th>\n",
       "      <td>United StatesBrazil</td>\n",
       "      <td>444</td>\n",
       "    </tr>\n",
       "    <tr>\n",
       "      <th>2</th>\n",
       "      <td>United StatesBrazilIndia</td>\n",
       "      <td>587</td>\n",
       "    </tr>\n",
       "    <tr>\n",
       "      <th>3</th>\n",
       "      <td>United StatesBrazilIndiaIndonesia</td>\n",
       "      <td>717</td>\n",
       "    </tr>\n",
       "    <tr>\n",
       "      <th>4</th>\n",
       "      <td>United StatesBrazilIndiaIndonesiaMexico</td>\n",
       "      <td>767</td>\n",
       "    </tr>\n",
       "    <tr>\n",
       "      <th>5</th>\n",
       "      <td>United StatesBrazilIndiaIndonesiaMexicoSpain</td>\n",
       "      <td>801</td>\n",
       "    </tr>\n",
       "    <tr>\n",
       "      <th>6</th>\n",
       "      <td>United StatesBrazilIndiaIndonesiaMexicoSpainRu...</td>\n",
       "      <td>831</td>\n",
       "    </tr>\n",
       "    <tr>\n",
       "      <th>7</th>\n",
       "      <td>United StatesBrazilIndiaIndonesiaMexicoSpainRu...</td>\n",
       "      <td>855</td>\n",
       "    </tr>\n",
       "    <tr>\n",
       "      <th>8</th>\n",
       "      <td>United StatesBrazilIndiaIndonesiaMexicoSpainRu...</td>\n",
       "      <td>872</td>\n",
       "    </tr>\n",
       "    <tr>\n",
       "      <th>9</th>\n",
       "      <td>United StatesBrazilIndiaIndonesiaMexicoSpainRu...</td>\n",
       "      <td>889</td>\n",
       "    </tr>\n",
       "    <tr>\n",
       "      <th>10</th>\n",
       "      <td>United StatesBrazilIndiaIndonesiaMexicoSpainRu...</td>\n",
       "      <td>905</td>\n",
       "    </tr>\n",
       "    <tr>\n",
       "      <th>11</th>\n",
       "      <td>United StatesBrazilIndiaIndonesiaMexicoSpainRu...</td>\n",
       "      <td>920</td>\n",
       "    </tr>\n",
       "    <tr>\n",
       "      <th>12</th>\n",
       "      <td>United StatesBrazilIndiaIndonesiaMexicoSpainRu...</td>\n",
       "      <td>933</td>\n",
       "    </tr>\n",
       "    <tr>\n",
       "      <th>13</th>\n",
       "      <td>United StatesBrazilIndiaIndonesiaMexicoSpainRu...</td>\n",
       "      <td>942</td>\n",
       "    </tr>\n",
       "    <tr>\n",
       "      <th>14</th>\n",
       "      <td>United StatesBrazilIndiaIndonesiaMexicoSpainRu...</td>\n",
       "      <td>949</td>\n",
       "    </tr>\n",
       "    <tr>\n",
       "      <th>15</th>\n",
       "      <td>United StatesBrazilIndiaIndonesiaMexicoSpainRu...</td>\n",
       "      <td>955</td>\n",
       "    </tr>\n",
       "    <tr>\n",
       "      <th>16</th>\n",
       "      <td>United StatesBrazilIndiaIndonesiaMexicoSpainRu...</td>\n",
       "      <td>961</td>\n",
       "    </tr>\n",
       "    <tr>\n",
       "      <th>17</th>\n",
       "      <td>United StatesBrazilIndiaIndonesiaMexicoSpainRu...</td>\n",
       "      <td>966</td>\n",
       "    </tr>\n",
       "    <tr>\n",
       "      <th>18</th>\n",
       "      <td>United StatesBrazilIndiaIndonesiaMexicoSpainRu...</td>\n",
       "      <td>970</td>\n",
       "    </tr>\n",
       "    <tr>\n",
       "      <th>19</th>\n",
       "      <td>United StatesBrazilIndiaIndonesiaMexicoSpainRu...</td>\n",
       "      <td>974</td>\n",
       "    </tr>\n",
       "    <tr>\n",
       "      <th>20</th>\n",
       "      <td>United StatesBrazilIndiaIndonesiaMexicoSpainRu...</td>\n",
       "      <td>978</td>\n",
       "    </tr>\n",
       "    <tr>\n",
       "      <th>21</th>\n",
       "      <td>United StatesBrazilIndiaIndonesiaMexicoSpainRu...</td>\n",
       "      <td>981</td>\n",
       "    </tr>\n",
       "    <tr>\n",
       "      <th>22</th>\n",
       "      <td>United StatesBrazilIndiaIndonesiaMexicoSpainRu...</td>\n",
       "      <td>983</td>\n",
       "    </tr>\n",
       "    <tr>\n",
       "      <th>23</th>\n",
       "      <td>United StatesBrazilIndiaIndonesiaMexicoSpainRu...</td>\n",
       "      <td>985</td>\n",
       "    </tr>\n",
       "    <tr>\n",
       "      <th>24</th>\n",
       "      <td>United StatesBrazilIndiaIndonesiaMexicoSpainRu...</td>\n",
       "      <td>987</td>\n",
       "    </tr>\n",
       "    <tr>\n",
       "      <th>25</th>\n",
       "      <td>United StatesBrazilIndiaIndonesiaMexicoSpainRu...</td>\n",
       "      <td>988</td>\n",
       "    </tr>\n",
       "    <tr>\n",
       "      <th>26</th>\n",
       "      <td>United StatesBrazilIndiaIndonesiaMexicoSpainRu...</td>\n",
       "      <td>989</td>\n",
       "    </tr>\n",
       "    <tr>\n",
       "      <th>27</th>\n",
       "      <td>United StatesBrazilIndiaIndonesiaMexicoSpainRu...</td>\n",
       "      <td>990</td>\n",
       "    </tr>\n",
       "    <tr>\n",
       "      <th>28</th>\n",
       "      <td>United StatesBrazilIndiaIndonesiaMexicoSpainRu...</td>\n",
       "      <td>991</td>\n",
       "    </tr>\n",
       "    <tr>\n",
       "      <th>29</th>\n",
       "      <td>United StatesBrazilIndiaIndonesiaMexicoSpainRu...</td>\n",
       "      <td>992</td>\n",
       "    </tr>\n",
       "    <tr>\n",
       "      <th>30</th>\n",
       "      <td>United StatesBrazilIndiaIndonesiaMexicoSpainRu...</td>\n",
       "      <td>993</td>\n",
       "    </tr>\n",
       "  </tbody>\n",
       "</table>\n",
       "</div>"
      ],
      "text/plain": [
       "                                                index  Audience Country\n",
       "0                                       United States               283\n",
       "1                                 United StatesBrazil               444\n",
       "2                            United StatesBrazilIndia               587\n",
       "3                   United StatesBrazilIndiaIndonesia               717\n",
       "4             United StatesBrazilIndiaIndonesiaMexico               767\n",
       "5        United StatesBrazilIndiaIndonesiaMexicoSpain               801\n",
       "6   United StatesBrazilIndiaIndonesiaMexicoSpainRu...               831\n",
       "7   United StatesBrazilIndiaIndonesiaMexicoSpainRu...               855\n",
       "8   United StatesBrazilIndiaIndonesiaMexicoSpainRu...               872\n",
       "9   United StatesBrazilIndiaIndonesiaMexicoSpainRu...               889\n",
       "10  United StatesBrazilIndiaIndonesiaMexicoSpainRu...               905\n",
       "11  United StatesBrazilIndiaIndonesiaMexicoSpainRu...               920\n",
       "12  United StatesBrazilIndiaIndonesiaMexicoSpainRu...               933\n",
       "13  United StatesBrazilIndiaIndonesiaMexicoSpainRu...               942\n",
       "14  United StatesBrazilIndiaIndonesiaMexicoSpainRu...               949\n",
       "15  United StatesBrazilIndiaIndonesiaMexicoSpainRu...               955\n",
       "16  United StatesBrazilIndiaIndonesiaMexicoSpainRu...               961\n",
       "17  United StatesBrazilIndiaIndonesiaMexicoSpainRu...               966\n",
       "18  United StatesBrazilIndiaIndonesiaMexicoSpainRu...               970\n",
       "19  United StatesBrazilIndiaIndonesiaMexicoSpainRu...               974\n",
       "20  United StatesBrazilIndiaIndonesiaMexicoSpainRu...               978\n",
       "21  United StatesBrazilIndiaIndonesiaMexicoSpainRu...               981\n",
       "22  United StatesBrazilIndiaIndonesiaMexicoSpainRu...               983\n",
       "23  United StatesBrazilIndiaIndonesiaMexicoSpainRu...               985\n",
       "24  United StatesBrazilIndiaIndonesiaMexicoSpainRu...               987\n",
       "25  United StatesBrazilIndiaIndonesiaMexicoSpainRu...               988\n",
       "26  United StatesBrazilIndiaIndonesiaMexicoSpainRu...               989\n",
       "27  United StatesBrazilIndiaIndonesiaMexicoSpainRu...               990\n",
       "28  United StatesBrazilIndiaIndonesiaMexicoSpainRu...               991\n",
       "29  United StatesBrazilIndiaIndonesiaMexicoSpainRu...               992\n",
       "30  United StatesBrazilIndiaIndonesiaMexicoSpainRu...               993"
      ]
     },
     "execution_count": 52,
     "metadata": {},
     "output_type": "execute_result"
    }
   ],
   "source": [
    "freq_acum = freq_paises.cumsum()\n",
    "freq_acum"
   ]
  },
  {
   "attachments": {},
   "cell_type": "markdown",
   "metadata": {},
   "source": [
    "* Representación de al menos una tabla de frecuencias"
   ]
  },
  {
   "cell_type": "code",
   "execution_count": 53,
   "metadata": {},
   "outputs": [
    {
     "data": {
      "image/png": "[encoded data removed]",
      "text/plain": [
       "<Figure size 640x480 with 1 Axes>"
      ]
     },
     "metadata": {},
     "output_type": "display_data"
    }
   ],
   "source": [
    "x = freq_paises['index']\n",
    "y = freq_paises['Audience Country']\n",
    "plt.figure()\n",
    "plt.pie(freq_paises['Audience Country'], labels=freq_paises['index'], autopct='%1.2f%%')\n",
    "plt.show();"
   ]
  },
  {
   "attachments": {},
   "cell_type": "markdown",
   "metadata": {},
   "source": [
    "### INTERPRETACIÓN:\n",
    "\n",
    "* *Características de la fuente:*\n",
    "\n",
    "La base de datos analizada es ranking de lxs mil influencers con más seguidores del mundo. Los datos fueron recogidos en febrero de 2022. Dentro de esta base, se miden variables relacionadas con el número de seguidores, tipo de contenido, engagement (interacción de lxs seguidores en el contenido de lxs influencers a lxs que siguen), entre otras dimensiones.\n",
    "\n",
    "* *Interpretación de los resultados*:\n",
    "\n",
    "\n",
    "Tanto en el caso de *seguidores* ('Followers') y en el caso del *engagement* ('Authentic engagement'), se observan dos grupos: \n",
    "\n",
    "Por un lado, hay influencers cuyos seguidores está dentro del rango intercuartil (entre el 25% y 75% con relación al grupo). En el segundo grupo, éstos tienen una cantidad de seguidores muy superior al grupo anterior, superando, a veces con creces al 75% de ellos.\n",
    "\n",
    "Este mismo fenómeno se repite en el caso del engagement. Con relación a la robustez de los datos, si bien es cierto que hay un número elevado de casos (N=1000), al haber tantos casos extremos (outliers) (casos que componen el segundo grupo), los datos pierden robustez. Además, en ambas variables los valores de media y mediana son muy distintas entre sí, lo que estambién indicativo de poca robustez.\n",
    "\n",
    "* *Next steps:*\n",
    "\n",
    "Futuras investigaciones deberán averiguar si los mismos influencers que tienen una cantidad de seguidores superior al 75% de la muestra son también aquellos con un engagement también superior al Q3.\n",
    "\n",
    "Se recomienda también que futuras investigaciones busquen los elementos comunes que podrían tener estos influencers en dimensiones como el tipo de contenido que generan, motivo de su fama (debido a las RRSS o ajenas a éstas) o incluso, de qué países son sus seguidores más fieles.\n"
   ]
  }
 ],
 "metadata": {
  "kernelspec": {
   "display_name": "base",
   "language": "python",
   "name": "python3"
  },
  "language_info": {
   "codemirror_mode": {
    "name": "ipython",
    "version": 3
   },
   "file_extension": ".py",
   "mimetype": "text/x-python",
   "name": "python",
   "nbconvert_exporter": "python",
   "pygments_lexer": "ipython3",
   "version": "3.9.7"
  },
  "orig_nbformat": 4,
  "vscode": {
   "interpreter": {
    "hash": "0620710c65b0f5ccc651a2aa8870ae0eb4c70492424a8d7866846658189426a3"
   }
  }
 },
 "nbformat": 4,
 "nbformat_minor": 2
}
