{
 "cells": [
  {
   "attachments": {},
   "cell_type": "markdown",
   "metadata": {},
   "source": [
    "### Ejercicio 1.\n",
    "Extraer los siguentes estadísiticos del conjunto de datos para varias de las varibles disponibles:\n",
    "* Tabla de contingencia\n",
    "* Coeficiente de correlación de las variables numéricas del dataset.\n",
    "* Sesgos de alguna de las variables numéricas del dataset.\n",
    "* Intervalo de confianza de algunas de las variables numéricas del dataset"
   ]
  },
  {
   "cell_type": "code",
   "execution_count": 1,
   "metadata": {},
   "outputs": [],
   "source": [
    "import pandas as pd\n",
    "import numpy as np\n",
    "from scipy.stats import skew\n",
    "import scipy.stats as st\n",
    "import re"
   ]
  },
  {
   "cell_type": "code",
   "execution_count": 2,
   "metadata": {},
   "outputs": [
    {
     "data": {
      "text/html": [
       "<div>\n",
       "<style scoped>\n",
       "    .dataframe tbody tr th:only-of-type {\n",
       "        vertical-align: middle;\n",
       "    }\n",
       "\n",
       "    .dataframe tbody tr th {\n",
       "        vertical-align: top;\n",
       "    }\n",
       "\n",
       "    .dataframe thead th {\n",
       "        text-align: right;\n",
       "    }\n",
       "</style>\n",
       "<table border=\"1\" class=\"dataframe\">\n",
       "  <thead>\n",
       "    <tr style=\"text-align: right;\">\n",
       "      <th></th>\n",
       "      <th>Country</th>\n",
       "      <th>Rank</th>\n",
       "      <th>Account</th>\n",
       "      <th>Title</th>\n",
       "      <th>Link</th>\n",
       "      <th>Category</th>\n",
       "      <th>Followers</th>\n",
       "      <th>Audience Country</th>\n",
       "      <th>Authentic engagement</th>\n",
       "      <th>Engagement avg</th>\n",
       "      <th>Scraped</th>\n",
       "    </tr>\n",
       "  </thead>\n",
       "  <tbody>\n",
       "    <tr>\n",
       "      <th>0</th>\n",
       "      <td>All</td>\n",
       "      <td>1</td>\n",
       "      <td>cristiano</td>\n",
       "      <td>Cristiano Ronaldo</td>\n",
       "      <td>https://www.instagram.com/cristiano/</td>\n",
       "      <td>Sports with a ball</td>\n",
       "      <td>400100000.0</td>\n",
       "      <td>India</td>\n",
       "      <td>7800000.0</td>\n",
       "      <td>9500000.0</td>\n",
       "      <td>2022-02-07 16:50:24.798803</td>\n",
       "    </tr>\n",
       "    <tr>\n",
       "      <th>1</th>\n",
       "      <td>All</td>\n",
       "      <td>2</td>\n",
       "      <td>kyliejenner</td>\n",
       "      <td>Kylie 🤍</td>\n",
       "      <td>https://www.instagram.com/kyliejenner/</td>\n",
       "      <td>Fashion|Modeling|Beauty</td>\n",
       "      <td>308800000.0</td>\n",
       "      <td>United States</td>\n",
       "      <td>6200000.0</td>\n",
       "      <td>10100000.0</td>\n",
       "      <td>2022-02-07 16:50:24.798803</td>\n",
       "    </tr>\n",
       "    <tr>\n",
       "      <th>2</th>\n",
       "      <td>All</td>\n",
       "      <td>3</td>\n",
       "      <td>leomessi</td>\n",
       "      <td>Leo Messi</td>\n",
       "      <td>https://www.instagram.com/leomessi/</td>\n",
       "      <td>Sports with a ball|Family</td>\n",
       "      <td>306300000.0</td>\n",
       "      <td>Argentina</td>\n",
       "      <td>4800000.0</td>\n",
       "      <td>6500000.0</td>\n",
       "      <td>2022-02-07 16:50:24.798803</td>\n",
       "    </tr>\n",
       "  </tbody>\n",
       "</table>\n",
       "</div>"
      ],
      "text/plain": [
       "  Country  Rank      Account              Title  \\\n",
       "0     All     1    cristiano  Cristiano Ronaldo   \n",
       "1     All     2  kyliejenner            Kylie 🤍   \n",
       "2     All     3     leomessi          Leo Messi   \n",
       "\n",
       "                                     Link                   Category  \\\n",
       "0    https://www.instagram.com/cristiano/         Sports with a ball   \n",
       "1  https://www.instagram.com/kyliejenner/    Fashion|Modeling|Beauty   \n",
       "2     https://www.instagram.com/leomessi/  Sports with a ball|Family   \n",
       "\n",
       "     Followers Audience Country  Authentic engagement  Engagement avg  \\\n",
       "0  400100000.0            India             7800000.0       9500000.0   \n",
       "1  308800000.0    United States             6200000.0      10100000.0   \n",
       "2  306300000.0        Argentina             4800000.0       6500000.0   \n",
       "\n",
       "                      Scraped  \n",
       "0  2022-02-07 16:50:24.798803  \n",
       "1  2022-02-07 16:50:24.798803  \n",
       "2  2022-02-07 16:50:24.798803  "
      ]
     },
     "execution_count": 2,
     "metadata": {},
     "output_type": "execute_result"
    }
   ],
   "source": [
    "df_influencers = pd.read_csv('../Archivos/instagram_global_top_1000.csv')\n",
    "df_influencers.head(3)"
   ]
  },
  {
   "cell_type": "code",
   "execution_count": 3,
   "metadata": {},
   "outputs": [
    {
     "name": "stdout",
     "output_type": "stream",
     "text": [
      "<class 'pandas.core.frame.DataFrame'>\n",
      "RangeIndex: 1000 entries, 0 to 999\n",
      "Data columns (total 11 columns):\n",
      " #   Column                Non-Null Count  Dtype  \n",
      "---  ------                --------------  -----  \n",
      " 0   Country               1000 non-null   object \n",
      " 1   Rank                  1000 non-null   int64  \n",
      " 2   Account               1000 non-null   object \n",
      " 3   Title                 983 non-null    object \n",
      " 4   Link                  1000 non-null   object \n",
      " 5   Category              909 non-null    object \n",
      " 6   Followers             1000 non-null   float64\n",
      " 7   Audience Country      993 non-null    object \n",
      " 8   Authentic engagement  1000 non-null   float64\n",
      " 9   Engagement avg        1000 non-null   float64\n",
      " 10  Scraped               1000 non-null   object \n",
      "dtypes: float64(3), int64(1), object(7)\n",
      "memory usage: 86.1+ KB\n"
     ]
    }
   ],
   "source": [
    "#exploramos las columnas y el tipo de datos que contienen\n",
    "df_influencers.info()"
   ]
  },
  {
   "cell_type": "code",
   "execution_count": 6,
   "metadata": {},
   "outputs": [
    {
     "data": {
      "text/plain": [
       "91"
      ]
     },
     "execution_count": 6,
     "metadata": {},
     "output_type": "execute_result"
    }
   ],
   "source": [
    "df_influencers['Category'].isnull().sum()"
   ]
  },
  {
   "cell_type": "code",
   "execution_count": 7,
   "metadata": {},
   "outputs": [
    {
     "data": {
      "text/html": [
       "<div>\n",
       "<style scoped>\n",
       "    .dataframe tbody tr th:only-of-type {\n",
       "        vertical-align: middle;\n",
       "    }\n",
       "\n",
       "    .dataframe tbody tr th {\n",
       "        vertical-align: top;\n",
       "    }\n",
       "\n",
       "    .dataframe thead th {\n",
       "        text-align: right;\n",
       "    }\n",
       "</style>\n",
       "<table border=\"1\" class=\"dataframe\">\n",
       "  <thead>\n",
       "    <tr style=\"text-align: right;\">\n",
       "      <th></th>\n",
       "      <th>Rank</th>\n",
       "      <th>Followers</th>\n",
       "      <th>Authentic engagement</th>\n",
       "      <th>Engagement avg</th>\n",
       "    </tr>\n",
       "  </thead>\n",
       "  <tbody>\n",
       "    <tr>\n",
       "      <th>count</th>\n",
       "      <td>1000.000000</td>\n",
       "      <td>1.000000e+03</td>\n",
       "      <td>1.000000e+03</td>\n",
       "      <td>1.000000e+03</td>\n",
       "    </tr>\n",
       "    <tr>\n",
       "      <th>mean</th>\n",
       "      <td>500.500000</td>\n",
       "      <td>2.483610e+07</td>\n",
       "      <td>6.491228e+05</td>\n",
       "      <td>8.653886e+05</td>\n",
       "    </tr>\n",
       "    <tr>\n",
       "      <th>std</th>\n",
       "      <td>288.819436</td>\n",
       "      <td>3.872143e+07</td>\n",
       "      <td>1.098804e+06</td>\n",
       "      <td>1.267515e+06</td>\n",
       "    </tr>\n",
       "    <tr>\n",
       "      <th>min</th>\n",
       "      <td>1.000000</td>\n",
       "      <td>2.800000e+06</td>\n",
       "      <td>0.000000e+00</td>\n",
       "      <td>5.200000e+04</td>\n",
       "    </tr>\n",
       "    <tr>\n",
       "      <th>25%</th>\n",
       "      <td>250.750000</td>\n",
       "      <td>9.000000e+06</td>\n",
       "      <td>2.091000e+05</td>\n",
       "      <td>3.086000e+05</td>\n",
       "    </tr>\n",
       "    <tr>\n",
       "      <th>50%</th>\n",
       "      <td>500.500000</td>\n",
       "      <td>1.440000e+07</td>\n",
       "      <td>3.637000e+05</td>\n",
       "      <td>5.239000e+05</td>\n",
       "    </tr>\n",
       "    <tr>\n",
       "      <th>75%</th>\n",
       "      <td>750.250000</td>\n",
       "      <td>2.565000e+07</td>\n",
       "      <td>6.832500e+05</td>\n",
       "      <td>9.508000e+05</td>\n",
       "    </tr>\n",
       "    <tr>\n",
       "      <th>max</th>\n",
       "      <td>1000.000000</td>\n",
       "      <td>4.696000e+08</td>\n",
       "      <td>1.340000e+07</td>\n",
       "      <td>1.340000e+07</td>\n",
       "    </tr>\n",
       "  </tbody>\n",
       "</table>\n",
       "</div>"
      ],
      "text/plain": [
       "              Rank     Followers  Authentic engagement  Engagement avg\n",
       "count  1000.000000  1.000000e+03          1.000000e+03    1.000000e+03\n",
       "mean    500.500000  2.483610e+07          6.491228e+05    8.653886e+05\n",
       "std     288.819436  3.872143e+07          1.098804e+06    1.267515e+06\n",
       "min       1.000000  2.800000e+06          0.000000e+00    5.200000e+04\n",
       "25%     250.750000  9.000000e+06          2.091000e+05    3.086000e+05\n",
       "50%     500.500000  1.440000e+07          3.637000e+05    5.239000e+05\n",
       "75%     750.250000  2.565000e+07          6.832500e+05    9.508000e+05\n",
       "max    1000.000000  4.696000e+08          1.340000e+07    1.340000e+07"
      ]
     },
     "execution_count": 7,
     "metadata": {},
     "output_type": "execute_result"
    }
   ],
   "source": [
    "#principales estadísticos de las variables numéricas:\n",
    "df_influencers.describe()"
   ]
  },
  {
   "attachments": {},
   "cell_type": "markdown",
   "metadata": {},
   "source": [
    "     Vamos a crear una nueva columna llamada 'Continentes' para poder facilitar la legibilidad de la tabla de contingencias entre Países de audiencia x Tipo de contenido. Para ello:"
   ]
  },
  {
   "cell_type": "code",
   "execution_count": 10,
   "metadata": {},
   "outputs": [],
   "source": [
    "#creación de la función\n",
    "def unir_paises (col):\n",
    "    EEUU = ['United States']\n",
    "    Rusia = ['Russia']\n",
    "    Latam = ['Argentina', 'Brazil', 'Mexico', 'Colombia', 'Chile']\n",
    "    UE = ['France', 'Spain', 'Italy', 'Poland', 'Germany']\n",
    "    Asia_SE = ['Indonesia', 'Japan', 'South Korea', 'Thailand', 'Philippines']\n",
    "    Africa = ['Nigeria', 'Morocco', 'Algeria']\n",
    "    Asia_arabe = ['Iran', 'Egypt', 'Turkey', 'Saudi Arabia', 'United Arab Emirates', 'Iraq', 'Syria', 'Kazakhstan']\n",
    "\n",
    "    if col in Asia_SE:\n",
    "        return 'Sudeste asiático'\n",
    "    elif col in UE:\n",
    "        return 'UE'\n",
    "    elif col in Latam:\n",
    "        return 'Latam'\n",
    "    elif col in Africa:\n",
    "        return 'Africa'\n",
    "    elif col in Asia_arabe:\n",
    "        return 'Países arabes'\n",
    "    elif col in EEUU:\n",
    "        return 'EEUU'\n",
    "    elif col in Rusia:\n",
    "        return 'Russia'"
   ]
  },
  {
   "cell_type": "code",
   "execution_count": 42,
   "metadata": {},
   "outputs": [
    {
     "data": {
      "text/plain": [
       "array([None, 'EEUU', 'Latam', 'Sudeste asiático', 'Países arabes', 'UE',\n",
       "       'Russia', 'Africa'], dtype=object)"
      ]
     },
     "execution_count": 42,
     "metadata": {},
     "output_type": "execute_result"
    }
   ],
   "source": [
    "#aplicación de la función a la nueva columna\n",
    "df_influencers['Continentes'] = df_influencers['Audience Country'].apply(unir_paises)\n",
    "df_influencers['Continentes'].unique()"
   ]
  },
  {
   "attachments": {},
   "cell_type": "markdown",
   "metadata": {},
   "source": [
    "        La cantidad de categorías es abrumadora, por lo que vamos a crear otra función que nos permita condensar los tipos de contenidos creados en otras categorías más generales:"
   ]
  },
  {
   "cell_type": "code",
   "execution_count": 38,
   "metadata": {},
   "outputs": [],
   "source": [
    "#creamos la función:\n",
    "def clasif_contenido(col):\n",
    "    Moda = ['Fashion', 'Accessories', 'Beauty', 'Modeling','Clothing','Outfits']\n",
    "    Est_de_vida = ['Lifestyle']\n",
    "    Arte = ['Arts', 'Cinema', 'Photography', 'Shows', 'Actors/actresses','Artists']\n",
    "    Tecnologias = ['Computers','Gadgets','Machinery','Technologies']\n",
    "    Inversion = ['Finance', 'Economics','Business','Careers']\n",
    "    Deportes = ['Sports with a ball', 'Racing sports']\n",
    "    try:\n",
    "        if col in Deportes:\n",
    "            return 'Deportes'\n",
    "        if col in Moda:\n",
    "            return 'Moda'\n",
    "        if col in Est_de_vida:\n",
    "            return 'Estilo de vida'\n",
    "        if col in Arte:\n",
    "            return 'Arte'\n",
    "        if col in Tecnologias:\n",
    "            return 'Tecnologías'\n",
    "        if col in Inversion:\n",
    "            return 'Inversión'\n",
    "        else:\n",
    "            return 'Otros'\n",
    "    except:\n",
    "        return np.nan"
   ]
  },
  {
   "cell_type": "code",
   "execution_count": 43,
   "metadata": {},
   "outputs": [
    {
     "data": {
      "text/plain": [
       "array(['Deportes', 'Otros', 'Arte', 'Estilo de vida', 'Moda'],\n",
       "      dtype=object)"
      ]
     },
     "execution_count": 43,
     "metadata": {},
     "output_type": "execute_result"
    }
   ],
   "source": [
    "#aplicamos la función a la nueva clasificación de contenidos:\n",
    "df_influencers['Cat_clasif'] = df_influencers['Category'].apply(clasif_contenido)\n",
    "df_influencers['Cat_clasif'].unique()"
   ]
  },
  {
   "cell_type": "code",
   "execution_count": 41,
   "metadata": {},
   "outputs": [
    {
     "data": {
      "text/html": [
       "<div>\n",
       "<style scoped>\n",
       "    .dataframe tbody tr th:only-of-type {\n",
       "        vertical-align: middle;\n",
       "    }\n",
       "\n",
       "    .dataframe tbody tr th {\n",
       "        vertical-align: top;\n",
       "    }\n",
       "\n",
       "    .dataframe thead th {\n",
       "        text-align: right;\n",
       "    }\n",
       "</style>\n",
       "<table border=\"1\" class=\"dataframe\">\n",
       "  <thead>\n",
       "    <tr style=\"text-align: right;\">\n",
       "      <th>Cat_clasif</th>\n",
       "      <th>Arte</th>\n",
       "      <th>Deportes</th>\n",
       "      <th>Estilo de vida</th>\n",
       "      <th>Moda</th>\n",
       "      <th>Otros</th>\n",
       "    </tr>\n",
       "    <tr>\n",
       "      <th>Continentes</th>\n",
       "      <th></th>\n",
       "      <th></th>\n",
       "      <th></th>\n",
       "      <th></th>\n",
       "      <th></th>\n",
       "    </tr>\n",
       "  </thead>\n",
       "  <tbody>\n",
       "    <tr>\n",
       "      <th>Africa</th>\n",
       "      <td>0</td>\n",
       "      <td>3</td>\n",
       "      <td>0</td>\n",
       "      <td>0</td>\n",
       "      <td>5</td>\n",
       "    </tr>\n",
       "    <tr>\n",
       "      <th>EEUU</th>\n",
       "      <td>5</td>\n",
       "      <td>11</td>\n",
       "      <td>13</td>\n",
       "      <td>9</td>\n",
       "      <td>245</td>\n",
       "    </tr>\n",
       "    <tr>\n",
       "      <th>Latam</th>\n",
       "      <td>4</td>\n",
       "      <td>22</td>\n",
       "      <td>18</td>\n",
       "      <td>12</td>\n",
       "      <td>189</td>\n",
       "    </tr>\n",
       "    <tr>\n",
       "      <th>Países arabes</th>\n",
       "      <td>4</td>\n",
       "      <td>6</td>\n",
       "      <td>2</td>\n",
       "      <td>3</td>\n",
       "      <td>34</td>\n",
       "    </tr>\n",
       "    <tr>\n",
       "      <th>Russia</th>\n",
       "      <td>6</td>\n",
       "      <td>0</td>\n",
       "      <td>2</td>\n",
       "      <td>2</td>\n",
       "      <td>20</td>\n",
       "    </tr>\n",
       "    <tr>\n",
       "      <th>Sudeste asiático</th>\n",
       "      <td>2</td>\n",
       "      <td>2</td>\n",
       "      <td>16</td>\n",
       "      <td>7</td>\n",
       "      <td>129</td>\n",
       "    </tr>\n",
       "    <tr>\n",
       "      <th>UE</th>\n",
       "      <td>0</td>\n",
       "      <td>36</td>\n",
       "      <td>2</td>\n",
       "      <td>2</td>\n",
       "      <td>21</td>\n",
       "    </tr>\n",
       "  </tbody>\n",
       "</table>\n",
       "</div>"
      ],
      "text/plain": [
       "Cat_clasif        Arte  Deportes  Estilo de vida  Moda  Otros\n",
       "Continentes                                                  \n",
       "Africa               0         3               0     0      5\n",
       "EEUU                 5        11              13     9    245\n",
       "Latam                4        22              18    12    189\n",
       "Países arabes        4         6               2     3     34\n",
       "Russia               6         0               2     2     20\n",
       "Sudeste asiático     2         2              16     7    129\n",
       "UE                   0        36               2     2     21"
      ]
     },
     "execution_count": 41,
     "metadata": {},
     "output_type": "execute_result"
    }
   ],
   "source": [
    "#tabla de contingencias de las variables categóricas:\n",
    "df_influencers_crosstab = pd.DataFrame(pd.crosstab(df_influencers['Continentes'], df_influencers['Cat_clasif']))\n",
    "df_influencers_crosstab"
   ]
  },
  {
   "cell_type": "code",
   "execution_count": 7,
   "metadata": {},
   "outputs": [
    {
     "name": "stderr",
     "output_type": "stream",
     "text": [
      "C:\\Users\\PcCom\\AppData\\Local\\Temp\\ipykernel_10204\\3838001811.py:2: FutureWarning: The default value of numeric_only in DataFrame.corr is deprecated. In a future version, it will default to False. Select only valid columns or specify the value of numeric_only to silence this warning.\n",
      "  correlacion_influs = df_influencers.corr()\n"
     ]
    },
    {
     "data": {
      "text/html": [
       "<div>\n",
       "<style scoped>\n",
       "    .dataframe tbody tr th:only-of-type {\n",
       "        vertical-align: middle;\n",
       "    }\n",
       "\n",
       "    .dataframe tbody tr th {\n",
       "        vertical-align: top;\n",
       "    }\n",
       "\n",
       "    .dataframe thead th {\n",
       "        text-align: right;\n",
       "    }\n",
       "</style>\n",
       "<table border=\"1\" class=\"dataframe\">\n",
       "  <thead>\n",
       "    <tr style=\"text-align: right;\">\n",
       "      <th></th>\n",
       "      <th>Rank</th>\n",
       "      <th>Followers</th>\n",
       "      <th>Authentic engagement</th>\n",
       "      <th>Engagement avg</th>\n",
       "    </tr>\n",
       "  </thead>\n",
       "  <tbody>\n",
       "    <tr>\n",
       "      <th>Rank</th>\n",
       "      <td>1.000000</td>\n",
       "      <td>-0.435286</td>\n",
       "      <td>-0.463701</td>\n",
       "      <td>-0.506682</td>\n",
       "    </tr>\n",
       "    <tr>\n",
       "      <th>Followers</th>\n",
       "      <td>-0.435286</td>\n",
       "      <td>1.000000</td>\n",
       "      <td>0.287067</td>\n",
       "      <td>0.336169</td>\n",
       "    </tr>\n",
       "    <tr>\n",
       "      <th>Authentic engagement</th>\n",
       "      <td>-0.463701</td>\n",
       "      <td>0.287067</td>\n",
       "      <td>1.000000</td>\n",
       "      <td>0.981982</td>\n",
       "    </tr>\n",
       "    <tr>\n",
       "      <th>Engagement avg</th>\n",
       "      <td>-0.506682</td>\n",
       "      <td>0.336169</td>\n",
       "      <td>0.981982</td>\n",
       "      <td>1.000000</td>\n",
       "    </tr>\n",
       "  </tbody>\n",
       "</table>\n",
       "</div>"
      ],
      "text/plain": [
       "                          Rank  Followers  Authentic engagement  \\\n",
       "Rank                  1.000000  -0.435286             -0.463701   \n",
       "Followers            -0.435286   1.000000              0.287067   \n",
       "Authentic engagement -0.463701   0.287067              1.000000   \n",
       "Engagement avg       -0.506682   0.336169              0.981982   \n",
       "\n",
       "                      Engagement avg  \n",
       "Rank                       -0.506682  \n",
       "Followers                   0.336169  \n",
       "Authentic engagement        0.981982  \n",
       "Engagement avg              1.000000  "
      ]
     },
     "execution_count": 7,
     "metadata": {},
     "output_type": "execute_result"
    }
   ],
   "source": [
    "#matriz de correlación\n",
    "correlacion_influs = df_influencers.corr()\n",
    "correlacion_influs"
   ]
  },
  {
   "attachments": {},
   "cell_type": "markdown",
   "metadata": {},
   "source": [
    "* Intervalo de confianza:"
   ]
  },
  {
   "attachments": {},
   "cell_type": "markdown",
   "metadata": {},
   "source": [
    "    Vamos a calcular el intervalo de confianza de la variable 'Engagement auténtico'."
   ]
  },
  {
   "cell_type": "code",
   "execution_count": 45,
   "metadata": {},
   "outputs": [],
   "source": [
    "datos = df_influencers['Authentic engagement'] "
   ]
  },
  {
   "cell_type": "code",
   "execution_count": 55,
   "metadata": {},
   "outputs": [
    {
     "name": "stdout",
     "output_type": "stream",
     "text": [
      "El valor que no conocemos de Authentic Engagement está entre 559448.58 e 738797.02 con una confianza del 99%\n"
     ]
    }
   ],
   "source": [
    "#Use of keyword argument `alpha` for method `interval` is deprecated. Use first positional argument or keyword argument `confidence` instead.\n",
    "IC = st.t.interval(confidence=0.99, df=len(df_influencers)-1, loc=np.mean(datos), scale=st.sem(datos))\n",
    "print(f'El valor que no conocemos de Authentic Engagement está entre {round(IC[0], 2)} e {round(IC[1], 2)} con una confianza del 99%')"
   ]
  },
  {
   "attachments": {},
   "cell_type": "markdown",
   "metadata": {},
   "source": [
    "### Ejercicio 2.\n",
    "\n",
    "Interpretación de los resultados.\n",
    "\n",
    "* Ahora interpreta los resultados obtenidos de los diferentes estadísticos estudiados haciendo hincapié en aspectos interesantes de tus datos y explica lo mejor posible la naturaleza de los mismos."
   ]
  },
  {
   "attachments": {},
   "cell_type": "markdown",
   "metadata": {},
   "source": [
    "*Matriz de correlación:*\n",
    "\n",
    "Observamos que existe una correlación positiva muy fuerte (0.98) entre las variables 'Authentic Engagement' y 'Engagement avg', lo cual nos indica que, a mayor interacción con el contenido, mayor cantidad de engagement real.\n",
    "\n",
    "Existe también una correlación inversa moderada-alta (-0.50) entre la posición en el ranking y la media del engagement, por lo que a mayor posición en el ranking, menor será el engagement promedio.\n",
    "\n",
    "Finalmente, resulta llamativa los resultados de la correlación entre la posición en el ranking ('Rank') y el número de seguidores sea, por un lado, moderada, y por otro, negativa (-0.44). A priori, esperaríamos que a mayor posición en el ranking de influencers con más seguidores, mayor número de seguidores. Es decir, que fuera una correlación positiva y fuerte. Sin embargo, no es el caso. Futuras aproximaciones a los datos deberán explorar qué otras variables pueden influir en esta relación, o si se ha producido un fallo en la recolección y/o volcado de los datos."
   ]
  },
  {
   "attachments": {},
   "cell_type": "markdown",
   "metadata": {},
   "source": [
    "*Tabla de contingencias de las variables categóricas Audience Country x Category*:  \n",
    "\n",
    "La mayoría de personas que siguen contenido de influencers deportivos son de países de la UE, seguidos de los países de latinoamérica y EEUU. En el caso de África y los países árabes, lxs influencers de deportes son lxs segundxs más seguidxs.  Por otro lado, lxs seguidorxs de países del sudeste asiático tienden a preferir contenidos relacionados con el 'Estilo de vida' y 'Moda'.  Lxs rusxs, por otro lado, parecen inclinarse mayoritariamente por contenidos relacionados con la estética y lo cultural como el arte y la moda.\n",
    "\n",
    "La categoría 'Otros' es la predominante, lo que nos indica que en futuras aproximaciones deberemos realizar una disección más profunda de las categorías."
   ]
  }
 ],
 "metadata": {
  "kernelspec": {
   "display_name": "Python 3",
   "language": "python",
   "name": "python3"
  },
  "language_info": {
   "codemirror_mode": {
    "name": "ipython",
    "version": 3
   },
   "file_extension": ".py",
   "mimetype": "text/x-python",
   "name": "python",
   "nbconvert_exporter": "python",
   "pygments_lexer": "ipython3",
   "version": "3.10.7"
  },
  "orig_nbformat": 4,
  "vscode": {
   "interpreter": {
    "hash": "0c7d85b6ca8c4414e9248eeaa7ba80594b1aefb2b06fa07a2481546730d70288"
   }
  }
 },
 "nbformat": 4,
 "nbformat_minor": 2
}
