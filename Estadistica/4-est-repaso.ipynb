{
 "cells": [
  {
   "cell_type": "code",
   "execution_count": 57,
   "metadata": {},
   "outputs": [],
   "source": [
    "import numpy as np\n",
    "import pandas as pd\n",
    "import scipy.stats as st\n",
    "from scipy.stats import skew\n",
    "import matplotlib.pyplot as plt\n",
    "import seaborn as sns"
   ]
  },
  {
   "attachments": {},
   "cell_type": "markdown",
   "metadata": {},
   "source": [
    "### Ejercicio 1\n",
    "Hacer una exploración inicial del dataframe."
   ]
  },
  {
   "cell_type": "code",
   "execution_count": 5,
   "metadata": {},
   "outputs": [
    {
     "data": {
      "text/html": [
       "<div>\n",
       "<style scoped>\n",
       "    .dataframe tbody tr th:only-of-type {\n",
       "        vertical-align: middle;\n",
       "    }\n",
       "\n",
       "    .dataframe tbody tr th {\n",
       "        vertical-align: top;\n",
       "    }\n",
       "\n",
       "    .dataframe thead th {\n",
       "        text-align: right;\n",
       "    }\n",
       "</style>\n",
       "<table border=\"1\" class=\"dataframe\">\n",
       "  <thead>\n",
       "    <tr style=\"text-align: right;\">\n",
       "      <th></th>\n",
       "      <th>Suburb</th>\n",
       "      <th>Address</th>\n",
       "      <th>Rooms</th>\n",
       "      <th>Type</th>\n",
       "      <th>Price</th>\n",
       "      <th>Method</th>\n",
       "      <th>SellerG</th>\n",
       "      <th>Date</th>\n",
       "      <th>Postcode</th>\n",
       "      <th>Regionname</th>\n",
       "      <th>Propertycount</th>\n",
       "      <th>Distance</th>\n",
       "      <th>CouncilArea</th>\n",
       "    </tr>\n",
       "  </thead>\n",
       "  <tbody>\n",
       "    <tr>\n",
       "      <th>0</th>\n",
       "      <td>Abbotsford</td>\n",
       "      <td>49 Lithgow St</td>\n",
       "      <td>3</td>\n",
       "      <td>h</td>\n",
       "      <td>1490000.0</td>\n",
       "      <td>S</td>\n",
       "      <td>Jellis</td>\n",
       "      <td>1/04/2017</td>\n",
       "      <td>3067</td>\n",
       "      <td>Northern Metropolitan</td>\n",
       "      <td>4019</td>\n",
       "      <td>3.0</td>\n",
       "      <td>Yarra City Council</td>\n",
       "    </tr>\n",
       "    <tr>\n",
       "      <th>1</th>\n",
       "      <td>Abbotsford</td>\n",
       "      <td>59A Turner St</td>\n",
       "      <td>3</td>\n",
       "      <td>h</td>\n",
       "      <td>1220000.0</td>\n",
       "      <td>S</td>\n",
       "      <td>Marshall</td>\n",
       "      <td>1/04/2017</td>\n",
       "      <td>3067</td>\n",
       "      <td>Northern Metropolitan</td>\n",
       "      <td>4019</td>\n",
       "      <td>3.0</td>\n",
       "      <td>Yarra City Council</td>\n",
       "    </tr>\n",
       "    <tr>\n",
       "      <th>2</th>\n",
       "      <td>Abbotsford</td>\n",
       "      <td>119B Yarra St</td>\n",
       "      <td>3</td>\n",
       "      <td>h</td>\n",
       "      <td>1420000.0</td>\n",
       "      <td>S</td>\n",
       "      <td>Nelson</td>\n",
       "      <td>1/04/2017</td>\n",
       "      <td>3067</td>\n",
       "      <td>Northern Metropolitan</td>\n",
       "      <td>4019</td>\n",
       "      <td>3.0</td>\n",
       "      <td>Yarra City Council</td>\n",
       "    </tr>\n",
       "  </tbody>\n",
       "</table>\n",
       "</div>"
      ],
      "text/plain": [
       "       Suburb        Address  Rooms Type      Price Method   SellerG  \\\n",
       "0  Abbotsford  49 Lithgow St      3    h  1490000.0      S    Jellis   \n",
       "1  Abbotsford  59A Turner St      3    h  1220000.0      S  Marshall   \n",
       "2  Abbotsford  119B Yarra St      3    h  1420000.0      S    Nelson   \n",
       "\n",
       "        Date  Postcode             Regionname  Propertycount  Distance  \\\n",
       "0  1/04/2017      3067  Northern Metropolitan           4019       3.0   \n",
       "1  1/04/2017      3067  Northern Metropolitan           4019       3.0   \n",
       "2  1/04/2017      3067  Northern Metropolitan           4019       3.0   \n",
       "\n",
       "          CouncilArea  \n",
       "0  Yarra City Council  \n",
       "1  Yarra City Council  \n",
       "2  Yarra City Council  "
      ]
     },
     "execution_count": 5,
     "metadata": {},
     "output_type": "execute_result"
    }
   ],
   "source": [
    "df_housing = pd.read_csv(\"../Estadistica/Archivos/housing_melbourne.csv\")\n",
    "df_housing.head(3)"
   ]
  },
  {
   "attachments": {},
   "cell_type": "markdown",
   "metadata": {},
   "source": [
    "* ¿Cuántas filas tiene?"
   ]
  },
  {
   "cell_type": "code",
   "execution_count": 6,
   "metadata": {},
   "outputs": [
    {
     "name": "stdout",
     "output_type": "stream",
     "text": [
      "El dataset tiene 63023 filas y 13 columnas.\n"
     ]
    }
   ],
   "source": [
    "print(f\"El dataset tiene {df_housing.shape[0]} filas y {df_housing.shape[1]} columnas.\")"
   ]
  },
  {
   "attachments": {},
   "cell_type": "markdown",
   "metadata": {},
   "source": [
    "* ¿Cuántas nulos tiene?"
   ]
  },
  {
   "cell_type": "code",
   "execution_count": 16,
   "metadata": {},
   "outputs": [
    {
     "name": "stdout",
     "output_type": "stream",
     "text": [
      "El dataset tiene un total de 14590 casos nulos.\n"
     ]
    }
   ],
   "source": [
    "print(f\"El dataset tiene un total de {df_housing.isnull().values.sum()} casos nulos.\")"
   ]
  },
  {
   "attachments": {},
   "cell_type": "markdown",
   "metadata": {},
   "source": [
    "* ¿Y duplicados?"
   ]
  },
  {
   "cell_type": "code",
   "execution_count": 17,
   "metadata": {},
   "outputs": [
    {
     "name": "stdout",
     "output_type": "stream",
     "text": [
      "El dataset tiene un total de 2 casos duplicados.\n"
     ]
    }
   ],
   "source": [
    "print(f\"El dataset tiene un total de {len(df_housing[df_housing.duplicated()])} casos duplicados.\")\n"
   ]
  },
  {
   "attachments": {},
   "cell_type": "markdown",
   "metadata": {},
   "source": [
    "* ¿Qué tipo de datos tenemos en el DataFrame?"
   ]
  },
  {
   "cell_type": "code",
   "execution_count": 10,
   "metadata": {},
   "outputs": [
    {
     "name": "stdout",
     "output_type": "stream",
     "text": [
      "<class 'pandas.core.frame.DataFrame'>\n",
      "RangeIndex: 63023 entries, 0 to 63022\n",
      "Data columns (total 13 columns):\n",
      " #   Column         Non-Null Count  Dtype  \n",
      "---  ------         --------------  -----  \n",
      " 0   Suburb         63023 non-null  object \n",
      " 1   Address        63023 non-null  object \n",
      " 2   Rooms          63023 non-null  int64  \n",
      " 3   Type           63023 non-null  object \n",
      " 4   Price          48433 non-null  float64\n",
      " 5   Method         63023 non-null  object \n",
      " 6   SellerG        63023 non-null  object \n",
      " 7   Date           63023 non-null  object \n",
      " 8   Postcode       63023 non-null  int64  \n",
      " 9   Regionname     63023 non-null  object \n",
      " 10  Propertycount  63023 non-null  int64  \n",
      " 11  Distance       63023 non-null  float64\n",
      " 12  CouncilArea    63023 non-null  object \n",
      "dtypes: float64(2), int64(3), object(8)\n",
      "memory usage: 6.3+ MB\n"
     ]
    }
   ],
   "source": [
    "#tipo de datos que tiene el DataFrame\n",
    "df_housing.info()"
   ]
  },
  {
   "attachments": {},
   "cell_type": "markdown",
   "metadata": {},
   "source": [
    "### Ejercicio 2\n",
    "Plantead una serie de preguntas como las que fuimos contestando en la clase invertida."
   ]
  },
  {
   "cell_type": "code",
   "execution_count": 17,
   "metadata": {},
   "outputs": [
    {
     "data": {
      "text/html": [
       "<div>\n",
       "<style scoped>\n",
       "    .dataframe tbody tr th:only-of-type {\n",
       "        vertical-align: middle;\n",
       "    }\n",
       "\n",
       "    .dataframe tbody tr th {\n",
       "        vertical-align: top;\n",
       "    }\n",
       "\n",
       "    .dataframe thead th {\n",
       "        text-align: right;\n",
       "    }\n",
       "</style>\n",
       "<table border=\"1\" class=\"dataframe\">\n",
       "  <thead>\n",
       "    <tr style=\"text-align: right;\">\n",
       "      <th></th>\n",
       "      <th>Rooms</th>\n",
       "      <th>Price</th>\n",
       "      <th>Postcode</th>\n",
       "      <th>Propertycount</th>\n",
       "      <th>Distance</th>\n",
       "    </tr>\n",
       "  </thead>\n",
       "  <tbody>\n",
       "    <tr>\n",
       "      <th>count</th>\n",
       "      <td>63023.000000</td>\n",
       "      <td>4.843300e+04</td>\n",
       "      <td>63023.000000</td>\n",
       "      <td>63023.000000</td>\n",
       "      <td>63023.000000</td>\n",
       "    </tr>\n",
       "    <tr>\n",
       "      <th>mean</th>\n",
       "      <td>3.110595</td>\n",
       "      <td>9.978982e+05</td>\n",
       "      <td>3125.673897</td>\n",
       "      <td>7617.728131</td>\n",
       "      <td>12.684829</td>\n",
       "    </tr>\n",
       "    <tr>\n",
       "      <th>std</th>\n",
       "      <td>0.957551</td>\n",
       "      <td>5.934989e+05</td>\n",
       "      <td>125.626877</td>\n",
       "      <td>4424.423167</td>\n",
       "      <td>7.592015</td>\n",
       "    </tr>\n",
       "    <tr>\n",
       "      <th>min</th>\n",
       "      <td>1.000000</td>\n",
       "      <td>8.500000e+04</td>\n",
       "      <td>3000.000000</td>\n",
       "      <td>39.000000</td>\n",
       "      <td>0.000000</td>\n",
       "    </tr>\n",
       "    <tr>\n",
       "      <th>25%</th>\n",
       "      <td>3.000000</td>\n",
       "      <td>6.200000e+05</td>\n",
       "      <td>3056.000000</td>\n",
       "      <td>4380.000000</td>\n",
       "      <td>7.000000</td>\n",
       "    </tr>\n",
       "    <tr>\n",
       "      <th>50%</th>\n",
       "      <td>3.000000</td>\n",
       "      <td>8.300000e+05</td>\n",
       "      <td>3107.000000</td>\n",
       "      <td>6795.000000</td>\n",
       "      <td>11.400000</td>\n",
       "    </tr>\n",
       "    <tr>\n",
       "      <th>75%</th>\n",
       "      <td>4.000000</td>\n",
       "      <td>1.220000e+06</td>\n",
       "      <td>3163.000000</td>\n",
       "      <td>10412.000000</td>\n",
       "      <td>16.700000</td>\n",
       "    </tr>\n",
       "    <tr>\n",
       "      <th>max</th>\n",
       "      <td>31.000000</td>\n",
       "      <td>1.120000e+07</td>\n",
       "      <td>3980.000000</td>\n",
       "      <td>21650.000000</td>\n",
       "      <td>64.100000</td>\n",
       "    </tr>\n",
       "  </tbody>\n",
       "</table>\n",
       "</div>"
      ],
      "text/plain": [
       "              Rooms         Price      Postcode  Propertycount      Distance\n",
       "count  63023.000000  4.843300e+04  63023.000000   63023.000000  63023.000000\n",
       "mean       3.110595  9.978982e+05   3125.673897    7617.728131     12.684829\n",
       "std        0.957551  5.934989e+05    125.626877    4424.423167      7.592015\n",
       "min        1.000000  8.500000e+04   3000.000000      39.000000      0.000000\n",
       "25%        3.000000  6.200000e+05   3056.000000    4380.000000      7.000000\n",
       "50%        3.000000  8.300000e+05   3107.000000    6795.000000     11.400000\n",
       "75%        4.000000  1.220000e+06   3163.000000   10412.000000     16.700000\n",
       "max       31.000000  1.120000e+07   3980.000000   21650.000000     64.100000"
      ]
     },
     "execution_count": 17,
     "metadata": {},
     "output_type": "execute_result"
    }
   ],
   "source": [
    "df_housing.describe()"
   ]
  },
  {
   "cell_type": "code",
   "execution_count": 26,
   "metadata": {},
   "outputs": [
    {
     "data": {
      "text/plain": [
       "31"
      ]
     },
     "execution_count": 26,
     "metadata": {},
     "output_type": "execute_result"
    }
   ],
   "source": [
    "df_housing[\"Rooms\"].max()"
   ]
  },
  {
   "cell_type": "code",
   "execution_count": 27,
   "metadata": {},
   "outputs": [
    {
     "data": {
      "text/plain": [
       "array([ 3,  2,  6,  4,  1,  5,  7,  8, 11, 10, 12,  9, 31, 16])"
      ]
     },
     "execution_count": 27,
     "metadata": {},
     "output_type": "execute_result"
    }
   ],
   "source": [
    "df_housing[\"Rooms\"].unique()"
   ]
  },
  {
   "attachments": {},
   "cell_type": "markdown",
   "metadata": {},
   "source": [
    "Vemos que existen hasta 30 puntos de diferencia entre el mínimo (1) y el máximo (31). Sin embargo, si nos fijamos en los cuartiles calculados en la tabla anterior, el 75% de las casas tienen menos de 4 habitaciones. Por lo tanto, los valores que hemos observado en el unique() superiores a esta cifra podrían tratarse de outliers."
   ]
  },
  {
   "attachments": {},
   "cell_type": "markdown",
   "metadata": {},
   "source": [
    "* Exploración de Correlaciones"
   ]
  },
  {
   "cell_type": "code",
   "execution_count": 20,
   "metadata": {},
   "outputs": [
    {
     "data": {
      "text/html": [
       "<div>\n",
       "<style scoped>\n",
       "    .dataframe tbody tr th:only-of-type {\n",
       "        vertical-align: middle;\n",
       "    }\n",
       "\n",
       "    .dataframe tbody tr th {\n",
       "        vertical-align: top;\n",
       "    }\n",
       "\n",
       "    .dataframe thead th {\n",
       "        text-align: right;\n",
       "    }\n",
       "</style>\n",
       "<table border=\"1\" class=\"dataframe\">\n",
       "  <thead>\n",
       "    <tr style=\"text-align: right;\">\n",
       "      <th></th>\n",
       "      <th>Rooms</th>\n",
       "      <th>Price</th>\n",
       "      <th>Postcode</th>\n",
       "      <th>Propertycount</th>\n",
       "      <th>Distance</th>\n",
       "    </tr>\n",
       "  </thead>\n",
       "  <tbody>\n",
       "    <tr>\n",
       "      <th>Rooms</th>\n",
       "      <td>1.000000</td>\n",
       "      <td>0.412438</td>\n",
       "      <td>0.093666</td>\n",
       "      <td>-0.048985</td>\n",
       "      <td>0.268289</td>\n",
       "    </tr>\n",
       "    <tr>\n",
       "      <th>Price</th>\n",
       "      <td>0.412438</td>\n",
       "      <td>1.000000</td>\n",
       "      <td>0.003112</td>\n",
       "      <td>-0.060769</td>\n",
       "      <td>-0.253668</td>\n",
       "    </tr>\n",
       "    <tr>\n",
       "      <th>Postcode</th>\n",
       "      <td>0.093666</td>\n",
       "      <td>0.003112</td>\n",
       "      <td>1.000000</td>\n",
       "      <td>-0.002557</td>\n",
       "      <td>0.500263</td>\n",
       "    </tr>\n",
       "    <tr>\n",
       "      <th>Propertycount</th>\n",
       "      <td>-0.048985</td>\n",
       "      <td>-0.060769</td>\n",
       "      <td>-0.002557</td>\n",
       "      <td>1.000000</td>\n",
       "      <td>0.014050</td>\n",
       "    </tr>\n",
       "    <tr>\n",
       "      <th>Distance</th>\n",
       "      <td>0.268289</td>\n",
       "      <td>-0.253668</td>\n",
       "      <td>0.500263</td>\n",
       "      <td>0.014050</td>\n",
       "      <td>1.000000</td>\n",
       "    </tr>\n",
       "  </tbody>\n",
       "</table>\n",
       "</div>"
      ],
      "text/plain": [
       "                  Rooms     Price  Postcode  Propertycount  Distance\n",
       "Rooms          1.000000  0.412438  0.093666      -0.048985  0.268289\n",
       "Price          0.412438  1.000000  0.003112      -0.060769 -0.253668\n",
       "Postcode       0.093666  0.003112  1.000000      -0.002557  0.500263\n",
       "Propertycount -0.048985 -0.060769 -0.002557       1.000000  0.014050\n",
       "Distance       0.268289 -0.253668  0.500263       0.014050  1.000000"
      ]
     },
     "execution_count": 20,
     "metadata": {},
     "output_type": "execute_result"
    }
   ],
   "source": [
    "corr_df = df_housing.corr()\n",
    "corr_df"
   ]
  },
  {
   "attachments": {},
   "cell_type": "markdown",
   "metadata": {},
   "source": [
    "Vemos que existe una correlación moderada-alta (0.50) entre \"Postcode\" y \"Distance\", también existe una correlación algo más baja pero moderada (0.41), entre \"Price\" y \"Rooms\".\n",
    "Cuanto mayor es la distancia más elevado es el código postal, y cuantas más habitaciones tiene la vivienda más caro es el piso."
   ]
  },
  {
   "attachments": {},
   "cell_type": "markdown",
   "metadata": {},
   "source": [
    "##### Nos hacemos las siguientes preguntas:"
   ]
  },
  {
   "attachments": {},
   "cell_type": "markdown",
   "metadata": {},
   "source": [
    "* ¿Cuál es el precio medio de una vivienda con una habitación? ¿Y cuál es el precio de una de tres habitaciones?"
   ]
  },
  {
   "cell_type": "code",
   "execution_count": 30,
   "metadata": {},
   "outputs": [
    {
     "name": "stdout",
     "output_type": "stream",
     "text": [
      "El precio medio de una vivienda media de una sola habitación es de 433225.65 dólares canadienses.\n",
      "---------------------------------------------\n",
      "El precio medio de una vivienda media de tres habitaciones es de 958527.99 dólares canadienses.\n",
      "---------------------------------------------\n",
      "Por lo tanto, la diferencia de precio entre una vivienda de una habitación y una de tres es de 525302.34 dólares canadienses.\n"
     ]
    }
   ],
   "source": [
    "una_hab = df_housing[df_housing['Rooms'] == 1]\n",
    "precio = una_hab['Price'].mean()\n",
    "\n",
    "print(f\"El precio medio de una vivienda media de una sola habitación es de {round(precio, 2)} dólares canadienses.\")\n",
    "print('---------------------------------------------')\n",
    "\n",
    "tres_hab = df_housing[df_housing['Rooms'] == 3]\n",
    "precio2 = tres_hab['Price'].mean()\n",
    "\n",
    "print(f\"El precio medio de una vivienda media de tres habitaciones es de {round(precio2, 2)} dólares canadienses.\")\n",
    "print('---------------------------------------------')\n",
    "dif_precio = precio2 - precio\n",
    "print(f'Por lo tanto, la diferencia de precio entre una vivienda de una habitación y una de tres es de {round(dif_precio, 2)} dólares canadienses.')"
   ]
  },
  {
   "cell_type": "code",
   "execution_count": 84,
   "metadata": {},
   "outputs": [
    {
     "data": {
      "text/html": [
       "<div>\n",
       "<style scoped>\n",
       "    .dataframe tbody tr th:only-of-type {\n",
       "        vertical-align: middle;\n",
       "    }\n",
       "\n",
       "    .dataframe tbody tr th {\n",
       "        vertical-align: top;\n",
       "    }\n",
       "\n",
       "    .dataframe thead th {\n",
       "        text-align: right;\n",
       "    }\n",
       "</style>\n",
       "<table border=\"1\" class=\"dataframe\">\n",
       "  <thead>\n",
       "    <tr style=\"text-align: right;\">\n",
       "      <th></th>\n",
       "      <th>Rooms</th>\n",
       "      <th>Price</th>\n",
       "    </tr>\n",
       "  </thead>\n",
       "  <tbody>\n",
       "    <tr>\n",
       "      <th>0</th>\n",
       "      <td>3</td>\n",
       "      <td>1490000.0</td>\n",
       "    </tr>\n",
       "    <tr>\n",
       "      <th>1</th>\n",
       "      <td>3</td>\n",
       "      <td>1220000.0</td>\n",
       "    </tr>\n",
       "    <tr>\n",
       "      <th>2</th>\n",
       "      <td>3</td>\n",
       "      <td>1420000.0</td>\n",
       "    </tr>\n",
       "    <tr>\n",
       "      <th>3</th>\n",
       "      <td>3</td>\n",
       "      <td>1515000.0</td>\n",
       "    </tr>\n",
       "    <tr>\n",
       "      <th>4</th>\n",
       "      <td>2</td>\n",
       "      <td>670000.0</td>\n",
       "    </tr>\n",
       "    <tr>\n",
       "      <th>...</th>\n",
       "      <td>...</td>\n",
       "      <td>...</td>\n",
       "    </tr>\n",
       "    <tr>\n",
       "      <th>63018</th>\n",
       "      <td>3</td>\n",
       "      <td>566000.0</td>\n",
       "    </tr>\n",
       "    <tr>\n",
       "      <th>63019</th>\n",
       "      <td>3</td>\n",
       "      <td>500000.0</td>\n",
       "    </tr>\n",
       "    <tr>\n",
       "      <th>63020</th>\n",
       "      <td>3</td>\n",
       "      <td>545000.0</td>\n",
       "    </tr>\n",
       "    <tr>\n",
       "      <th>63021</th>\n",
       "      <td>3</td>\n",
       "      <td>NaN</td>\n",
       "    </tr>\n",
       "    <tr>\n",
       "      <th>63022</th>\n",
       "      <td>4</td>\n",
       "      <td>NaN</td>\n",
       "    </tr>\n",
       "  </tbody>\n",
       "</table>\n",
       "<p>63023 rows × 2 columns</p>\n",
       "</div>"
      ],
      "text/plain": [
       "       Rooms      Price\n",
       "0          3  1490000.0\n",
       "1          3  1220000.0\n",
       "2          3  1420000.0\n",
       "3          3  1515000.0\n",
       "4          2   670000.0\n",
       "...      ...        ...\n",
       "63018      3   566000.0\n",
       "63019      3   500000.0\n",
       "63020      3   545000.0\n",
       "63021      3        NaN\n",
       "63022      4        NaN\n",
       "\n",
       "[63023 rows x 2 columns]"
      ]
     },
     "execution_count": 84,
     "metadata": {},
     "output_type": "execute_result"
    }
   ],
   "source": [
    "df_grafica = df_housing.filter(['Rooms', 'Price'], axis=1)\n",
    "df_grafica"
   ]
  },
  {
   "attachments": {},
   "cell_type": "markdown",
   "metadata": {},
   "source": [
    "* ¿Cuál es el precio más habitual de una vivienda en Melbourne?"
   ]
  },
  {
   "cell_type": "code",
   "execution_count": 35,
   "metadata": {},
   "outputs": [
    {
     "name": "stdout",
     "output_type": "stream",
     "text": [
      "El precio más habitual de una vivienda es de 600000.0 dólares canadienses\n"
     ]
    }
   ],
   "source": [
    "moda_melb = (df_housing['Price'].mode()).round(2)\n",
    "print(f'El precio más habitual de una vivienda es de {moda_melb[0]} dólares canadienses')"
   ]
  },
  {
   "attachments": {},
   "cell_type": "markdown",
   "metadata": {},
   "source": [
    "* ¿Cuál es el suburbio con la vivienda más cara? ¿Y la más barata?"
   ]
  },
  {
   "cell_type": "code",
   "execution_count": 54,
   "metadata": {},
   "outputs": [
    {
     "name": "stdout",
     "output_type": "stream",
     "text": [
      "El barrio con el piso más barato es Footscray.\n",
      "-----------------------------------------------------------\n",
      "El barrio con el piso más barato es Brighton.\n"
     ]
    }
   ],
   "source": [
    "mas_barata = df_housing[df_housing['Price'] == df_housing['Price'].min()]\n",
    "barrio_barato = mas_barata['Suburb']\n",
    "\n",
    "print(f\"El barrio con el piso más barato es {barrio_barato.values[0]}.\")\n",
    "\n",
    "print(f'-----------------------------------------------------------')\n",
    "\n",
    "mas_cara = df_housing[df_housing['Price'] == df_housing['Price'].max()]\n",
    "barrio_caro = mas_cara['Suburb']\n",
    "print(f\"El barrio con el piso más barato es {barrio_caro.values[0]}.\")"
   ]
  }
 ],
 "metadata": {
  "kernelspec": {
   "display_name": "base",
   "language": "python",
   "name": "python3"
  },
  "language_info": {
   "codemirror_mode": {
    "name": "ipython",
    "version": 3
   },
   "file_extension": ".py",
   "mimetype": "text/x-python",
   "name": "python",
   "nbconvert_exporter": "python",
   "pygments_lexer": "ipython3",
   "version": "3.9.12"
  },
  "orig_nbformat": 4,
  "vscode": {
   "interpreter": {
    "hash": "7696c289d06a49fc095d842f95cdcbdec802ba3ef3edc9a84743d0cc9a541988"
   }
  }
 },
 "nbformat": 4,
 "nbformat_minor": 2
}
