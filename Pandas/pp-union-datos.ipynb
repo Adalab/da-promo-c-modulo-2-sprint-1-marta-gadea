{
 "cells": [
  {
   "attachments": {},
   "cell_type": "markdown",
   "metadata": {},
   "source": [
    "### Ejercicio 1.\n",
    "Cargad los tres ficheros nombrados anteriormente y los exploramos para familizarizarnos con ellos y saber que información tienen en común y debatir con tu compañera como podríamos juntar toda la información."
   ]
  },
  {
   "cell_type": "code",
   "execution_count": 1,
   "metadata": {},
   "outputs": [],
   "source": [
    "import pandas as pd\n",
    "import numpy as np"
   ]
  },
  {
   "cell_type": "code",
   "execution_count": 2,
   "metadata": {},
   "outputs": [],
   "source": [
    "attacks = pd.read_csv('../Pandas/attacks_1_3.csv')\n",
    "attadicional = pd.read_csv('../Pandas/attacks_adicional.csv')\n",
    "atthist = pd.read_csv('../Pandas/attacks_historico.csv')"
   ]
  },
  {
   "cell_type": "code",
   "execution_count": 3,
   "metadata": {},
   "outputs": [
    {
     "data": {
      "text/html": [
       "<div>\n",
       "<style scoped>\n",
       "    .dataframe tbody tr th:only-of-type {\n",
       "        vertical-align: middle;\n",
       "    }\n",
       "\n",
       "    .dataframe tbody tr th {\n",
       "        vertical-align: top;\n",
       "    }\n",
       "\n",
       "    .dataframe thead th {\n",
       "        text-align: right;\n",
       "    }\n",
       "</style>\n",
       "<table border=\"1\" class=\"dataframe\">\n",
       "  <thead>\n",
       "    <tr style=\"text-align: right;\">\n",
       "      <th></th>\n",
       "      <th>case_number</th>\n",
       "      <th>year</th>\n",
       "      <th>type</th>\n",
       "      <th>country</th>\n",
       "      <th>area</th>\n",
       "      <th>location</th>\n",
       "      <th>activity</th>\n",
       "      <th>name</th>\n",
       "      <th>sex</th>\n",
       "      <th>age</th>\n",
       "      <th>time</th>\n",
       "      <th>species</th>\n",
       "      <th>pdf</th>\n",
       "      <th>href_formula</th>\n",
       "      <th>href</th>\n",
       "      <th>siglo</th>\n",
       "    </tr>\n",
       "  </thead>\n",
       "  <tbody>\n",
       "    <tr>\n",
       "      <th>0</th>\n",
       "      <td>2018.06.25</td>\n",
       "      <td>2018.0</td>\n",
       "      <td>Boating</td>\n",
       "      <td>USA</td>\n",
       "      <td>California</td>\n",
       "      <td>Oceanside, San Diego County</td>\n",
       "      <td>Paddling</td>\n",
       "      <td>Julie Wolfe</td>\n",
       "      <td>F</td>\n",
       "      <td>57</td>\n",
       "      <td>18h00</td>\n",
       "      <td>White shark</td>\n",
       "      <td>2018.06.25-Wolfe.pdf</td>\n",
       "      <td>http://sharkattackfile.net/spreadsheets/pdf_di...</td>\n",
       "      <td>http://sharkattackfile.net/spreadsheets/pdf_di...</td>\n",
       "      <td>siglo-XXI</td>\n",
       "    </tr>\n",
       "    <tr>\n",
       "      <th>1</th>\n",
       "      <td>2018.06.03.a</td>\n",
       "      <td>2018.0</td>\n",
       "      <td>Unprovoked</td>\n",
       "      <td>BRAZIL</td>\n",
       "      <td>Pernambuco</td>\n",
       "      <td>Piedade Beach, Recife</td>\n",
       "      <td>Swimming</td>\n",
       "      <td>Jose Ernesto da Silva</td>\n",
       "      <td>M</td>\n",
       "      <td>18</td>\n",
       "      <td>Late afternoon</td>\n",
       "      <td>Tiger shark</td>\n",
       "      <td>2018.06.03.a-daSilva.pdf</td>\n",
       "      <td>http://sharkattackfile.net/spreadsheets/pdf_di...</td>\n",
       "      <td>http://sharkattackfile.net/spreadsheets/pdf_di...</td>\n",
       "      <td>siglo-XXI</td>\n",
       "    </tr>\n",
       "    <tr>\n",
       "      <th>2</th>\n",
       "      <td>2018.05.26.b</td>\n",
       "      <td>2018.0</td>\n",
       "      <td>Unprovoked</td>\n",
       "      <td>USA</td>\n",
       "      <td>Florida</td>\n",
       "      <td>Cocoa Beach, Brevard  County</td>\n",
       "      <td>Walking</td>\n",
       "      <td>Cody High</td>\n",
       "      <td>M</td>\n",
       "      <td>15</td>\n",
       "      <td>17h00</td>\n",
       "      <td>Bull shark, 6'</td>\n",
       "      <td>2018.05.26.b-High.pdf</td>\n",
       "      <td>http://sharkattackfile.net/spreadsheets/pdf_di...</td>\n",
       "      <td>http://sharkattackfile.net/spreadsheets/pdf_di...</td>\n",
       "      <td>siglo-XXI</td>\n",
       "    </tr>\n",
       "  </tbody>\n",
       "</table>\n",
       "</div>"
      ],
      "text/plain": [
       "    case_number    year        type country        area  \\\n",
       "0    2018.06.25  2018.0     Boating     USA  California   \n",
       "1  2018.06.03.a  2018.0  Unprovoked  BRAZIL  Pernambuco   \n",
       "2  2018.05.26.b  2018.0  Unprovoked     USA     Florida   \n",
       "\n",
       "                       location  activity                    name sex age  \\\n",
       "0   Oceanside, San Diego County  Paddling             Julie Wolfe   F  57   \n",
       "1         Piedade Beach, Recife  Swimming  Jose Ernesto da Silva    M  18   \n",
       "2  Cocoa Beach, Brevard  County   Walking               Cody High   M  15   \n",
       "\n",
       "             time         species                       pdf  \\\n",
       "0           18h00     White shark      2018.06.25-Wolfe.pdf   \n",
       "1  Late afternoon     Tiger shark  2018.06.03.a-daSilva.pdf   \n",
       "2           17h00  Bull shark, 6'     2018.05.26.b-High.pdf   \n",
       "\n",
       "                                        href_formula  \\\n",
       "0  http://sharkattackfile.net/spreadsheets/pdf_di...   \n",
       "1  http://sharkattackfile.net/spreadsheets/pdf_di...   \n",
       "2  http://sharkattackfile.net/spreadsheets/pdf_di...   \n",
       "\n",
       "                                                href      siglo  \n",
       "0  http://sharkattackfile.net/spreadsheets/pdf_di...  siglo-XXI  \n",
       "1  http://sharkattackfile.net/spreadsheets/pdf_di...  siglo-XXI  \n",
       "2  http://sharkattackfile.net/spreadsheets/pdf_di...  siglo-XXI  "
      ]
     },
     "execution_count": 3,
     "metadata": {},
     "output_type": "execute_result"
    }
   ],
   "source": [
    "attacks.head(3)"
   ]
  },
  {
   "cell_type": "code",
   "execution_count": 4,
   "metadata": {},
   "outputs": [
    {
     "data": {
      "text/html": [
       "<div>\n",
       "<style scoped>\n",
       "    .dataframe tbody tr th:only-of-type {\n",
       "        vertical-align: middle;\n",
       "    }\n",
       "\n",
       "    .dataframe tbody tr th {\n",
       "        vertical-align: top;\n",
       "    }\n",
       "\n",
       "    .dataframe thead th {\n",
       "        text-align: right;\n",
       "    }\n",
       "</style>\n",
       "<table border=\"1\" class=\"dataframe\">\n",
       "  <thead>\n",
       "    <tr style=\"text-align: right;\">\n",
       "      <th></th>\n",
       "      <th>Unnamed: 0</th>\n",
       "      <th>Case Number</th>\n",
       "      <th>Fatal (Y/N)</th>\n",
       "      <th>Injury</th>\n",
       "      <th>Date</th>\n",
       "    </tr>\n",
       "  </thead>\n",
       "  <tbody>\n",
       "    <tr>\n",
       "      <th>0</th>\n",
       "      <td>0</td>\n",
       "      <td>2018.06.25</td>\n",
       "      <td>N</td>\n",
       "      <td>No injury to occupant, outrigger canoe and pad...</td>\n",
       "      <td>25-Jun-2018</td>\n",
       "    </tr>\n",
       "    <tr>\n",
       "      <th>1</th>\n",
       "      <td>1</td>\n",
       "      <td>2018.06.18</td>\n",
       "      <td>N</td>\n",
       "      <td>Minor injury to left thigh</td>\n",
       "      <td>18-Jun-2018</td>\n",
       "    </tr>\n",
       "    <tr>\n",
       "      <th>2</th>\n",
       "      <td>2</td>\n",
       "      <td>2018.06.09</td>\n",
       "      <td>N</td>\n",
       "      <td>Injury to left lower leg from surfboard skeg</td>\n",
       "      <td>09-Jun-2018</td>\n",
       "    </tr>\n",
       "  </tbody>\n",
       "</table>\n",
       "</div>"
      ],
      "text/plain": [
       "   Unnamed: 0 Case Number Fatal (Y/N)  \\\n",
       "0           0  2018.06.25           N   \n",
       "1           1  2018.06.18           N   \n",
       "2           2  2018.06.09           N   \n",
       "\n",
       "                                              Injury         Date  \n",
       "0  No injury to occupant, outrigger canoe and pad...  25-Jun-2018  \n",
       "1                         Minor injury to left thigh  18-Jun-2018  \n",
       "2       Injury to left lower leg from surfboard skeg  09-Jun-2018  "
      ]
     },
     "execution_count": 4,
     "metadata": {},
     "output_type": "execute_result"
    }
   ],
   "source": [
    "attadicional.head(3)"
   ]
  },
  {
   "cell_type": "code",
   "execution_count": 5,
   "metadata": {},
   "outputs": [
    {
     "data": {
      "text/html": [
       "<div>\n",
       "<style scoped>\n",
       "    .dataframe tbody tr th:only-of-type {\n",
       "        vertical-align: middle;\n",
       "    }\n",
       "\n",
       "    .dataframe tbody tr th {\n",
       "        vertical-align: top;\n",
       "    }\n",
       "\n",
       "    .dataframe thead th {\n",
       "        text-align: right;\n",
       "    }\n",
       "</style>\n",
       "<table border=\"1\" class=\"dataframe\">\n",
       "  <thead>\n",
       "    <tr style=\"text-align: right;\">\n",
       "      <th></th>\n",
       "      <th>Unnamed: 0</th>\n",
       "      <th>Case Number</th>\n",
       "      <th>Year</th>\n",
       "      <th>Type</th>\n",
       "      <th>Country</th>\n",
       "      <th>Area</th>\n",
       "      <th>Location</th>\n",
       "      <th>Activity</th>\n",
       "      <th>Name</th>\n",
       "      <th>Sex</th>\n",
       "      <th>...</th>\n",
       "      <th>Species</th>\n",
       "      <th>Investigator or Source</th>\n",
       "      <th>pdf</th>\n",
       "      <th>href formula</th>\n",
       "      <th>href</th>\n",
       "      <th>Case Number.1</th>\n",
       "      <th>Case Number.2</th>\n",
       "      <th>original order</th>\n",
       "      <th>Unnamed: 22</th>\n",
       "      <th>Unnamed: 23</th>\n",
       "    </tr>\n",
       "  </thead>\n",
       "  <tbody>\n",
       "    <tr>\n",
       "      <th>0</th>\n",
       "      <td>6132</td>\n",
       "      <td>1800.00.00</td>\n",
       "      <td>1800.0</td>\n",
       "      <td>Unprovoked</td>\n",
       "      <td>SEYCHELLES</td>\n",
       "      <td>St. Anne</td>\n",
       "      <td>NaN</td>\n",
       "      <td>a corsair's boat was overturned</td>\n",
       "      <td>NaN</td>\n",
       "      <td>F</td>\n",
       "      <td>...</td>\n",
       "      <td>NaN</td>\n",
       "      <td>V. C. Harvey-Brain</td>\n",
       "      <td>1800.00.00-Corsair-boat.pdf</td>\n",
       "      <td>http://sharkattackfile.net/spreadsheets/pdf_di...</td>\n",
       "      <td>http://sharkattackfile.net/spreadsheets/pdf_di...</td>\n",
       "      <td>1800.00.00</td>\n",
       "      <td>1800.00.00</td>\n",
       "      <td>171.0</td>\n",
       "      <td>NaN</td>\n",
       "      <td>NaN</td>\n",
       "    </tr>\n",
       "    <tr>\n",
       "      <th>1</th>\n",
       "      <td>6133</td>\n",
       "      <td>1797.05.28.R</td>\n",
       "      <td>1797.0</td>\n",
       "      <td>Unprovoked</td>\n",
       "      <td>NaN</td>\n",
       "      <td>NaN</td>\n",
       "      <td>NaN</td>\n",
       "      <td>Dropped overboard</td>\n",
       "      <td>child</td>\n",
       "      <td>NaN</td>\n",
       "      <td>...</td>\n",
       "      <td>NaN</td>\n",
       "      <td>The Observer 5/28/1797</td>\n",
       "      <td>1797.05.28.R-Cloverdale.pdf</td>\n",
       "      <td>http://sharkattackfile.net/spreadsheets/pdf_di...</td>\n",
       "      <td>http://sharkattackfile.net/spreadsheets/pdf_di...</td>\n",
       "      <td>1797.05.28.R</td>\n",
       "      <td>1797.05.28.R</td>\n",
       "      <td>170.0</td>\n",
       "      <td>NaN</td>\n",
       "      <td>NaN</td>\n",
       "    </tr>\n",
       "    <tr>\n",
       "      <th>2</th>\n",
       "      <td>6134</td>\n",
       "      <td>1792.09.12</td>\n",
       "      <td>1792.0</td>\n",
       "      <td>Provoked</td>\n",
       "      <td>ENGLAND</td>\n",
       "      <td>NaN</td>\n",
       "      <td>On the Thames River</td>\n",
       "      <td>Fishing</td>\n",
       "      <td>male</td>\n",
       "      <td>M</td>\n",
       "      <td>...</td>\n",
       "      <td>NaN</td>\n",
       "      <td>The Waterford Herald, 9/15/1792</td>\n",
       "      <td>1792.09.12-Thames.pdf</td>\n",
       "      <td>http://sharkattackfile.net/spreadsheets/pdf_di...</td>\n",
       "      <td>http://sharkattackfile.net/spreadsheets/pdf_di...</td>\n",
       "      <td>1792.09.12</td>\n",
       "      <td>1792.09.12</td>\n",
       "      <td>169.0</td>\n",
       "      <td>NaN</td>\n",
       "      <td>NaN</td>\n",
       "    </tr>\n",
       "  </tbody>\n",
       "</table>\n",
       "<p>3 rows × 22 columns</p>\n",
       "</div>"
      ],
      "text/plain": [
       "   Unnamed: 0   Case Number    Year        Type     Country      Area  \\\n",
       "0        6132    1800.00.00  1800.0  Unprovoked  SEYCHELLES  St. Anne   \n",
       "1        6133  1797.05.28.R  1797.0  Unprovoked         NaN       NaN   \n",
       "2        6134    1792.09.12  1792.0    Provoked     ENGLAND       NaN   \n",
       "\n",
       "              Location                         Activity   Name Sex   ...  \\\n",
       "0                  NaN  a corsair's boat was overturned    NaN    F  ...   \n",
       "1                  NaN                Dropped overboard  child  NaN  ...   \n",
       "2  On the Thames River                          Fishing   male    M  ...   \n",
       "\n",
       "  Species            Investigator or Source                          pdf  \\\n",
       "0      NaN               V. C. Harvey-Brain  1800.00.00-Corsair-boat.pdf   \n",
       "1      NaN           The Observer 5/28/1797  1797.05.28.R-Cloverdale.pdf   \n",
       "2      NaN  The Waterford Herald, 9/15/1792        1792.09.12-Thames.pdf   \n",
       "\n",
       "                                        href formula  \\\n",
       "0  http://sharkattackfile.net/spreadsheets/pdf_di...   \n",
       "1  http://sharkattackfile.net/spreadsheets/pdf_di...   \n",
       "2  http://sharkattackfile.net/spreadsheets/pdf_di...   \n",
       "\n",
       "                                                href Case Number.1  \\\n",
       "0  http://sharkattackfile.net/spreadsheets/pdf_di...    1800.00.00   \n",
       "1  http://sharkattackfile.net/spreadsheets/pdf_di...  1797.05.28.R   \n",
       "2  http://sharkattackfile.net/spreadsheets/pdf_di...    1792.09.12   \n",
       "\n",
       "  Case Number.2 original order Unnamed: 22  Unnamed: 23  \n",
       "0    1800.00.00          171.0         NaN          NaN  \n",
       "1  1797.05.28.R          170.0         NaN          NaN  \n",
       "2    1792.09.12          169.0         NaN          NaN  \n",
       "\n",
       "[3 rows x 22 columns]"
      ]
     },
     "execution_count": 5,
     "metadata": {},
     "output_type": "execute_result"
    }
   ],
   "source": [
    "atthist.head(3)"
   ]
  },
  {
   "cell_type": "code",
   "execution_count": 6,
   "metadata": {},
   "outputs": [
    {
     "name": "stdout",
     "output_type": "stream",
     "text": [
      "<class 'pandas.core.frame.DataFrame'>\n",
      "RangeIndex: 1502 entries, 0 to 1501\n",
      "Data columns (total 16 columns):\n",
      " #   Column        Non-Null Count  Dtype  \n",
      "---  ------        --------------  -----  \n",
      " 0   case_number   1502 non-null   object \n",
      " 1   year          1502 non-null   float64\n",
      " 2   type          1502 non-null   object \n",
      " 3   country       1502 non-null   object \n",
      " 4   area          1502 non-null   object \n",
      " 5   location      1502 non-null   object \n",
      " 6   activity      1502 non-null   object \n",
      " 7   name          1502 non-null   object \n",
      " 8   sex           1502 non-null   object \n",
      " 9   age           1502 non-null   object \n",
      " 10  time          1502 non-null   object \n",
      " 11  species       1502 non-null   object \n",
      " 12  pdf           1502 non-null   object \n",
      " 13  href_formula  1502 non-null   object \n",
      " 14  href          1502 non-null   object \n",
      " 15  siglo         1502 non-null   object \n",
      "dtypes: float64(1), object(15)\n",
      "memory usage: 187.9+ KB\n"
     ]
    }
   ],
   "source": [
    "attacks.info()"
   ]
  },
  {
   "cell_type": "code",
   "execution_count": 7,
   "metadata": {},
   "outputs": [
    {
     "name": "stdout",
     "output_type": "stream",
     "text": [
      "<class 'pandas.core.frame.DataFrame'>\n",
      "RangeIndex: 6288 entries, 0 to 6287\n",
      "Data columns (total 5 columns):\n",
      " #   Column       Non-Null Count  Dtype \n",
      "---  ------       --------------  ----- \n",
      " 0   Unnamed: 0   6288 non-null   int64 \n",
      " 1   Case Number  6287 non-null   object\n",
      " 2   Fatal (Y/N)  5751 non-null   object\n",
      " 3   Injury       6258 non-null   object\n",
      " 4   Date         6286 non-null   object\n",
      "dtypes: int64(1), object(4)\n",
      "memory usage: 245.8+ KB\n"
     ]
    }
   ],
   "source": [
    "attadicional.info()"
   ]
  },
  {
   "cell_type": "code",
   "execution_count": 8,
   "metadata": {},
   "outputs": [
    {
     "name": "stdout",
     "output_type": "stream",
     "text": [
      "<class 'pandas.core.frame.DataFrame'>\n",
      "RangeIndex: 170 entries, 0 to 169\n",
      "Data columns (total 22 columns):\n",
      " #   Column                  Non-Null Count  Dtype  \n",
      "---  ------                  --------------  -----  \n",
      " 0   Unnamed: 0              170 non-null    int64  \n",
      " 1   Case Number             170 non-null    object \n",
      " 2   Year                    170 non-null    float64\n",
      " 3   Type                    170 non-null    object \n",
      " 4   Country                 160 non-null    object \n",
      " 5   Area                    124 non-null    object \n",
      " 6   Location                119 non-null    object \n",
      " 7   Activity                139 non-null    object \n",
      " 8   Name                    161 non-null    object \n",
      " 9   Sex                     156 non-null    object \n",
      " 10  Age                     16 non-null     object \n",
      " 11  Time                    10 non-null     object \n",
      " 12  Species                 44 non-null     object \n",
      " 13  Investigator or Source  169 non-null    object \n",
      " 14  pdf                     170 non-null    object \n",
      " 15  href formula            170 non-null    object \n",
      " 16  href                    170 non-null    object \n",
      " 17  Case Number.1           170 non-null    object \n",
      " 18  Case Number.2           170 non-null    object \n",
      " 19  original order          170 non-null    float64\n",
      " 20  Unnamed: 22             0 non-null      float64\n",
      " 21  Unnamed: 23             0 non-null      float64\n",
      "dtypes: float64(4), int64(1), object(17)\n",
      "memory usage: 29.3+ KB\n"
     ]
    }
   ],
   "source": [
    "atthist.info()"
   ]
  },
  {
   "attachments": {},
   "cell_type": "markdown",
   "metadata": {},
   "source": [
    "        Podemos observar que attacks_historico.csv (atthist) las columnas son las mismas que en nuestro archivo original de attacks.csv antes de la depuración."
   ]
  },
  {
   "attachments": {},
   "cell_type": "markdown",
   "metadata": {},
   "source": [
    "### Ejercicio 2.\n",
    "Chequead que los nombres de las columnas ver si se llaman iguales entre dataframes . ¿Están todas en minúsculas? ¿Tienen espacios? En caso de que no sean todas iguales unificad el nombre de las columnas."
   ]
  },
  {
   "cell_type": "code",
   "execution_count": 18,
   "metadata": {},
   "outputs": [],
   "source": [
    "#vamos a crear copias para cada archivo:\n",
    "attacks2 = attacks.copy()\n",
    "atthist2 = atthist.copy()\n",
    "attadic2 = attadicional.copy()"
   ]
  },
  {
   "attachments": {},
   "cell_type": "markdown",
   "metadata": {},
   "source": [
    "        Es necesario homogeneizar los formatos de los nombres de las columnas (están capitalizadas) y quitar los espacios para que se parezca lo máximo posible a nuestro csv attacks. También hay que quitar las columnas y los nulos que borramos en ejercicios anteriores."
   ]
  },
  {
   "attachments": {},
   "cell_type": "markdown",
   "metadata": {},
   "source": [
    "* Limpieza de atthist (attacks_historicos.csv):"
   ]
  },
  {
   "cell_type": "code",
   "execution_count": 17,
   "metadata": {},
   "outputs": [
    {
     "data": {
      "text/plain": [
       "Index(['unnamed:_0', 'case_number', 'year', 'type', 'country', 'area',\n",
       "       'location', 'activity', 'name', 'sex', 'age', 'time', 'species',\n",
       "       'investigator_or_source', 'pdf', 'href_formula', 'href',\n",
       "       'case_number.1', 'case_number.2', 'original_order', 'unnamed:_22',\n",
       "       'unnamed:_23'],\n",
       "      dtype='object')"
      ]
     },
     "execution_count": 17,
     "metadata": {},
     "output_type": "execute_result"
    }
   ],
   "source": [
    "#quitamos los espacios delante y detrás de los nombres:\n",
    "atthist.columns = atthist.columns.str.strip()\n",
    "#quitamos los espacios y los reemplazamos por '_':\n",
    "atthist.columns = atthist.columns.str.replace(\" \", \"_\").str.lower()\n",
    "atthist.columns\n",
    "#Nos pasa lo siguiente que no sabemos como resolver: Sobre los originales se guardan los cambios aplicados con el .strip() pero no con las copias"
   ]
  },
  {
   "cell_type": "code",
   "execution_count": 19,
   "metadata": {},
   "outputs": [
    {
     "data": {
      "text/plain": [
       "Index(['case_number', 'year', 'type', 'country', 'area', 'location',\n",
       "       'activity', 'name', 'sex', 'age', 'time', 'species', 'pdf',\n",
       "       'href_formula', 'href'],\n",
       "      dtype='object')"
      ]
     },
     "execution_count": 19,
     "metadata": {},
     "output_type": "execute_result"
    }
   ],
   "source": [
    "#borramos las columnas que no nos hacen falta\n",
    "atthist2.drop(['unnamed:_0', 'investigator_or_source', 'case_number.1', 'case_number.2', 'original_order', 'unnamed:_22',\n",
    "       'unnamed:_23'], inplace=True, axis=1)\n",
    "atthist2.columns"
   ]
  },
  {
   "attachments": {},
   "cell_type": "markdown",
   "metadata": {},
   "source": [
    "* Limpieza de attadic2 (attacks_adicional.csv)"
   ]
  },
  {
   "cell_type": "code",
   "execution_count": 20,
   "metadata": {},
   "outputs": [
    {
     "data": {
      "text/plain": [
       "Index(['case_number', 'fatal_(y/n)', 'injury', 'date'], dtype='object')"
      ]
     },
     "execution_count": 20,
     "metadata": {},
     "output_type": "execute_result"
    }
   ],
   "source": [
    "#homogeneizamos el formato:\n",
    "attadic2.columns = attadic2.columns.str.strip().str.replace(\" \", \"_\").str.lower()\n",
    "#borramos la columna innecesaria:\n",
    "attadic2.drop(['unnamed:_0'], inplace=True, axis=1)\n",
    "attadic2.columns"
   ]
  },
  {
   "attachments": {},
   "cell_type": "markdown",
   "metadata": {},
   "source": [
    "### Ejercicio 3.\n",
    "En este momento nos habremos dado cuenta que el DataFrame que generamos en el pair programming Pandas IV es similar al DataFrame de los datos históricos. Si recordamos, eliminamos algunas columnas en la sesión III que no eran útiles, pero esas columnas están todavía en el histórico. Si no fuera por eso podríamos unir esos dataframes. Realizad los cambios que creais necesarios para que los dataframes sean iguales y luego juntadlos usando el mejor método."
   ]
  },
  {
   "attachments": {},
   "cell_type": "markdown",
   "metadata": {},
   "source": [
    "        Sabemos que la única columna que tiene ahora attacks2 que no tiene attthist2 es la columna de 'siglos'. Creamos la columna siglos en atthist2:"
   ]
  },
  {
   "cell_type": "code",
   "execution_count": 21,
   "metadata": {},
   "outputs": [
    {
     "data": {
      "text/plain": [
       "Index(['case_number', 'year', 'type', 'country', 'area', 'location',\n",
       "       'activity', 'name', 'sex', 'age', 'time', 'species', 'pdf',\n",
       "       'href_formula', 'href'],\n",
       "      dtype='object')"
      ]
     },
     "execution_count": 21,
     "metadata": {},
     "output_type": "execute_result"
    }
   ],
   "source": [
    "atthist2.columns"
   ]
  },
  {
   "cell_type": "code",
   "execution_count": 22,
   "metadata": {},
   "outputs": [
    {
     "data": {
      "text/plain": [
       "array([1800., 1797., 1792., 1791., 1788., 1787., 1786., 1785., 1784.,\n",
       "       1783., 1780., 1779., 1776., 1771., 1767., 1764., 1758., 1753.,\n",
       "       1751., 1749., 1755., 1748., 1742., 1738., 1733., 1723., 1721.,\n",
       "       1703., 1700., 1642., 1638., 1637., 1617., 1595., 1580., 1555.,\n",
       "       1554., 1543.,  500.,   77.,    5.,    0.])"
      ]
     },
     "execution_count": 22,
     "metadata": {},
     "output_type": "execute_result"
    }
   ],
   "source": [
    "atthist2['year'].unique()"
   ]
  },
  {
   "cell_type": "code",
   "execution_count": 23,
   "metadata": {},
   "outputs": [],
   "source": [
    "#creamos la columna con los filtros:\n",
    "        #[(db_sharks3['year'] < 1900), (db_sharks3['year'] < 2000), (db_sharks3['year'] >= 2000)]\n",
    "siglos = [(atthist2['year'] == 1800), (atthist2['year'] < 1800), (atthist2['year'] < 1700), (atthist2['year'] < 1600)]\n",
    "valores = ['siglo XIX', 'siglo-XVIII', 'siglo-XVII', 'siglo-XVI o anterior']\n",
    "\n",
    "atthist2['siglo'] = np.select(siglos, valores)"
   ]
  },
  {
   "cell_type": "code",
   "execution_count": 24,
   "metadata": {},
   "outputs": [
    {
     "data": {
      "text/plain": [
       "array([ True,  True,  True,  True,  True,  True,  True,  True,  True,\n",
       "        True,  True,  True,  True,  True,  True,  True])"
      ]
     },
     "execution_count": 24,
     "metadata": {},
     "output_type": "execute_result"
    }
   ],
   "source": [
    "#ahora, confirmamos que las columnas en attacks_historicos y attacks_1_3 tienen las mismas columnas\n",
    "atthist2.columns == attacks2.columns"
   ]
  },
  {
   "attachments": {},
   "cell_type": "markdown",
   "metadata": {},
   "source": [
    "### Ejercicio 4.\n",
    "Es el momento de unir la información de todos los ataques de tiburón que acabamos de crear con el DataFrame de información adicional. Debatid que método es el más correcto para unir toda esta información y ejecutadlo.\n",
    "📌 NOTA Cuando hagáis la unión considerad que la información que más nos interesa es la del DataFrame que creamos en el apartado anterior, lo cual determinará el tipo de unión."
   ]
  },
  {
   "attachments": {},
   "cell_type": "markdown",
   "metadata": {},
   "source": [
    "        \n",
    "        Fusionamos ambas bases (atthist2 y attacks2). Optamos por un merge() ya que es el método diseñado para combinar datos en columnas comunes:"
   ]
  },
  {
   "cell_type": "code",
   "execution_count": 25,
   "metadata": {},
   "outputs": [],
   "source": [
    "nuevo_attack = attacks2.merge(atthist2, how='outer')\n",
    "#sería lo mismo que hacer un .concat() pero especificando que se aplique en el axis[0], es decir, las filas."
   ]
  },
  {
   "cell_type": "code",
   "execution_count": 26,
   "metadata": {},
   "outputs": [
    {
     "name": "stdout",
     "output_type": "stream",
     "text": [
      "<class 'pandas.core.frame.DataFrame'>\n",
      "Int64Index: 1672 entries, 0 to 1671\n",
      "Data columns (total 16 columns):\n",
      " #   Column        Non-Null Count  Dtype  \n",
      "---  ------        --------------  -----  \n",
      " 0   case_number   1672 non-null   object \n",
      " 1   year          1672 non-null   float64\n",
      " 2   type          1672 non-null   object \n",
      " 3   country       1662 non-null   object \n",
      " 4   area          1626 non-null   object \n",
      " 5   location      1621 non-null   object \n",
      " 6   activity      1641 non-null   object \n",
      " 7   name          1663 non-null   object \n",
      " 8   sex           1658 non-null   object \n",
      " 9   age           1518 non-null   object \n",
      " 10  time          1512 non-null   object \n",
      " 11  species       1546 non-null   object \n",
      " 12  pdf           1672 non-null   object \n",
      " 13  href_formula  1672 non-null   object \n",
      " 14  href          1672 non-null   object \n",
      " 15  siglo         1672 non-null   object \n",
      "dtypes: float64(1), object(15)\n",
      "memory usage: 222.1+ KB\n"
     ]
    }
   ],
   "source": [
    "nuevo_attack.info()"
   ]
  },
  {
   "attachments": {},
   "cell_type": "markdown",
   "metadata": {},
   "source": [
    "        Comprobamos las tres últimas columnas de nuestro nuevo DF (nuevo_attack), para confirmar que los tres últimos casos coinciden con las del df - atthist2. \n",
    "        \n",
    "        En los scripts siguientes se comprueba que los ultimos case_number coinciden con los IDs de atthist2:"
   ]
  },
  {
   "cell_type": "code",
   "execution_count": 27,
   "metadata": {},
   "outputs": [
    {
     "data": {
      "text/html": [
       "<div>\n",
       "<style scoped>\n",
       "    .dataframe tbody tr th:only-of-type {\n",
       "        vertical-align: middle;\n",
       "    }\n",
       "\n",
       "    .dataframe tbody tr th {\n",
       "        vertical-align: top;\n",
       "    }\n",
       "\n",
       "    .dataframe thead th {\n",
       "        text-align: right;\n",
       "    }\n",
       "</style>\n",
       "<table border=\"1\" class=\"dataframe\">\n",
       "  <thead>\n",
       "    <tr style=\"text-align: right;\">\n",
       "      <th></th>\n",
       "      <th>case_number</th>\n",
       "      <th>year</th>\n",
       "      <th>type</th>\n",
       "      <th>country</th>\n",
       "      <th>area</th>\n",
       "      <th>location</th>\n",
       "      <th>activity</th>\n",
       "      <th>name</th>\n",
       "      <th>sex</th>\n",
       "      <th>age</th>\n",
       "      <th>time</th>\n",
       "      <th>species</th>\n",
       "      <th>pdf</th>\n",
       "      <th>href_formula</th>\n",
       "      <th>href</th>\n",
       "      <th>siglo</th>\n",
       "    </tr>\n",
       "  </thead>\n",
       "  <tbody>\n",
       "    <tr>\n",
       "      <th>1669</th>\n",
       "      <td>ND.0003</td>\n",
       "      <td>0.0</td>\n",
       "      <td>Unprovoked</td>\n",
       "      <td>USA</td>\n",
       "      <td>North Carolina</td>\n",
       "      <td>Ocracoke Inlet</td>\n",
       "      <td>Swimming</td>\n",
       "      <td>Coast Guard personnel</td>\n",
       "      <td>M</td>\n",
       "      <td>NaN</td>\n",
       "      <td>NaN</td>\n",
       "      <td>NaN</td>\n",
       "      <td>ND-0003-Ocracoke_1900-1905.pdf</td>\n",
       "      <td>http://sharkattackfile.net/spreadsheets/pdf_di...</td>\n",
       "      <td>http://sharkattackfile.net/spreadsheets/pdf_di...</td>\n",
       "      <td>siglo-XVIII</td>\n",
       "    </tr>\n",
       "    <tr>\n",
       "      <th>1670</th>\n",
       "      <td>ND.0002</td>\n",
       "      <td>0.0</td>\n",
       "      <td>Unprovoked</td>\n",
       "      <td>PANAMA</td>\n",
       "      <td>NaN</td>\n",
       "      <td>Panama Bay 8ºN, 79ºW</td>\n",
       "      <td>NaN</td>\n",
       "      <td>Jules Patterson</td>\n",
       "      <td>M</td>\n",
       "      <td>NaN</td>\n",
       "      <td>NaN</td>\n",
       "      <td>NaN</td>\n",
       "      <td>ND-0002-JulesPatterson.pdf</td>\n",
       "      <td>http://sharkattackfile.net/spreadsheets/pdf_di...</td>\n",
       "      <td>http://sharkattackfile.net/spreadsheets/pdf_di...</td>\n",
       "      <td>siglo-XVIII</td>\n",
       "    </tr>\n",
       "    <tr>\n",
       "      <th>1671</th>\n",
       "      <td>ND.0001</td>\n",
       "      <td>0.0</td>\n",
       "      <td>Unprovoked</td>\n",
       "      <td>CEYLON (SRI LANKA)</td>\n",
       "      <td>Eastern Province</td>\n",
       "      <td>Below the English fort, Trincomalee</td>\n",
       "      <td>Swimming</td>\n",
       "      <td>male</td>\n",
       "      <td>M</td>\n",
       "      <td>15</td>\n",
       "      <td>NaN</td>\n",
       "      <td>NaN</td>\n",
       "      <td>ND-0001-Ceylon.pdf</td>\n",
       "      <td>http://sharkattackfile.net/spreadsheets/pdf_di...</td>\n",
       "      <td>http://sharkattackfile.net/spreadsheets/pdf_di...</td>\n",
       "      <td>siglo-XVIII</td>\n",
       "    </tr>\n",
       "  </tbody>\n",
       "</table>\n",
       "</div>"
      ],
      "text/plain": [
       "     case_number  year        type             country              area  \\\n",
       "1669     ND.0003   0.0  Unprovoked                 USA    North Carolina   \n",
       "1670     ND.0002   0.0  Unprovoked              PANAMA               NaN   \n",
       "1671     ND.0001   0.0  Unprovoked  CEYLON (SRI LANKA)  Eastern Province   \n",
       "\n",
       "                                 location  activity                   name  \\\n",
       "1669                       Ocracoke Inlet  Swimming  Coast Guard personnel   \n",
       "1670                 Panama Bay 8ºN, 79ºW       NaN        Jules Patterson   \n",
       "1671  Below the English fort, Trincomalee  Swimming                   male   \n",
       "\n",
       "     sex  age time species                             pdf  \\\n",
       "1669   M  NaN  NaN     NaN  ND-0003-Ocracoke_1900-1905.pdf   \n",
       "1670   M  NaN  NaN     NaN      ND-0002-JulesPatterson.pdf   \n",
       "1671   M   15  NaN     NaN              ND-0001-Ceylon.pdf   \n",
       "\n",
       "                                           href_formula  \\\n",
       "1669  http://sharkattackfile.net/spreadsheets/pdf_di...   \n",
       "1670  http://sharkattackfile.net/spreadsheets/pdf_di...   \n",
       "1671  http://sharkattackfile.net/spreadsheets/pdf_di...   \n",
       "\n",
       "                                                   href        siglo  \n",
       "1669  http://sharkattackfile.net/spreadsheets/pdf_di...  siglo-XVIII  \n",
       "1670  http://sharkattackfile.net/spreadsheets/pdf_di...  siglo-XVIII  \n",
       "1671  http://sharkattackfile.net/spreadsheets/pdf_di...  siglo-XVIII  "
      ]
     },
     "execution_count": 27,
     "metadata": {},
     "output_type": "execute_result"
    }
   ],
   "source": [
    "nuevo_attack.tail(3)"
   ]
  },
  {
   "cell_type": "code",
   "execution_count": 28,
   "metadata": {},
   "outputs": [
    {
     "data": {
      "text/html": [
       "<div>\n",
       "<style scoped>\n",
       "    .dataframe tbody tr th:only-of-type {\n",
       "        vertical-align: middle;\n",
       "    }\n",
       "\n",
       "    .dataframe tbody tr th {\n",
       "        vertical-align: top;\n",
       "    }\n",
       "\n",
       "    .dataframe thead th {\n",
       "        text-align: right;\n",
       "    }\n",
       "</style>\n",
       "<table border=\"1\" class=\"dataframe\">\n",
       "  <thead>\n",
       "    <tr style=\"text-align: right;\">\n",
       "      <th></th>\n",
       "      <th>case_number</th>\n",
       "      <th>year</th>\n",
       "      <th>type</th>\n",
       "      <th>country</th>\n",
       "      <th>area</th>\n",
       "      <th>location</th>\n",
       "      <th>activity</th>\n",
       "      <th>name</th>\n",
       "      <th>sex</th>\n",
       "      <th>age</th>\n",
       "      <th>time</th>\n",
       "      <th>species</th>\n",
       "      <th>pdf</th>\n",
       "      <th>href_formula</th>\n",
       "      <th>href</th>\n",
       "      <th>siglo</th>\n",
       "    </tr>\n",
       "  </thead>\n",
       "  <tbody>\n",
       "    <tr>\n",
       "      <th>167</th>\n",
       "      <td>ND.0003</td>\n",
       "      <td>0.0</td>\n",
       "      <td>Unprovoked</td>\n",
       "      <td>USA</td>\n",
       "      <td>North Carolina</td>\n",
       "      <td>Ocracoke Inlet</td>\n",
       "      <td>Swimming</td>\n",
       "      <td>Coast Guard personnel</td>\n",
       "      <td>M</td>\n",
       "      <td>NaN</td>\n",
       "      <td>NaN</td>\n",
       "      <td>NaN</td>\n",
       "      <td>ND-0003-Ocracoke_1900-1905.pdf</td>\n",
       "      <td>http://sharkattackfile.net/spreadsheets/pdf_di...</td>\n",
       "      <td>http://sharkattackfile.net/spreadsheets/pdf_di...</td>\n",
       "      <td>siglo-XVIII</td>\n",
       "    </tr>\n",
       "    <tr>\n",
       "      <th>168</th>\n",
       "      <td>ND.0002</td>\n",
       "      <td>0.0</td>\n",
       "      <td>Unprovoked</td>\n",
       "      <td>PANAMA</td>\n",
       "      <td>NaN</td>\n",
       "      <td>Panama Bay 8ºN, 79ºW</td>\n",
       "      <td>NaN</td>\n",
       "      <td>Jules Patterson</td>\n",
       "      <td>M</td>\n",
       "      <td>NaN</td>\n",
       "      <td>NaN</td>\n",
       "      <td>NaN</td>\n",
       "      <td>ND-0002-JulesPatterson.pdf</td>\n",
       "      <td>http://sharkattackfile.net/spreadsheets/pdf_di...</td>\n",
       "      <td>http://sharkattackfile.net/spreadsheets/pdf_di...</td>\n",
       "      <td>siglo-XVIII</td>\n",
       "    </tr>\n",
       "    <tr>\n",
       "      <th>169</th>\n",
       "      <td>ND.0001</td>\n",
       "      <td>0.0</td>\n",
       "      <td>Unprovoked</td>\n",
       "      <td>CEYLON (SRI LANKA)</td>\n",
       "      <td>Eastern Province</td>\n",
       "      <td>Below the English fort, Trincomalee</td>\n",
       "      <td>Swimming</td>\n",
       "      <td>male</td>\n",
       "      <td>M</td>\n",
       "      <td>15</td>\n",
       "      <td>NaN</td>\n",
       "      <td>NaN</td>\n",
       "      <td>ND-0001-Ceylon.pdf</td>\n",
       "      <td>http://sharkattackfile.net/spreadsheets/pdf_di...</td>\n",
       "      <td>http://sharkattackfile.net/spreadsheets/pdf_di...</td>\n",
       "      <td>siglo-XVIII</td>\n",
       "    </tr>\n",
       "  </tbody>\n",
       "</table>\n",
       "</div>"
      ],
      "text/plain": [
       "    case_number  year        type             country              area  \\\n",
       "167     ND.0003   0.0  Unprovoked                 USA    North Carolina   \n",
       "168     ND.0002   0.0  Unprovoked              PANAMA               NaN   \n",
       "169     ND.0001   0.0  Unprovoked  CEYLON (SRI LANKA)  Eastern Province   \n",
       "\n",
       "                                location  activity                   name sex  \\\n",
       "167                       Ocracoke Inlet  Swimming  Coast Guard personnel   M   \n",
       "168                 Panama Bay 8ºN, 79ºW       NaN        Jules Patterson   M   \n",
       "169  Below the English fort, Trincomalee  Swimming                   male   M   \n",
       "\n",
       "     age time species                             pdf  \\\n",
       "167  NaN  NaN     NaN  ND-0003-Ocracoke_1900-1905.pdf   \n",
       "168  NaN  NaN     NaN      ND-0002-JulesPatterson.pdf   \n",
       "169   15  NaN     NaN              ND-0001-Ceylon.pdf   \n",
       "\n",
       "                                          href_formula  \\\n",
       "167  http://sharkattackfile.net/spreadsheets/pdf_di...   \n",
       "168  http://sharkattackfile.net/spreadsheets/pdf_di...   \n",
       "169  http://sharkattackfile.net/spreadsheets/pdf_di...   \n",
       "\n",
       "                                                  href        siglo  \n",
       "167  http://sharkattackfile.net/spreadsheets/pdf_di...  siglo-XVIII  \n",
       "168  http://sharkattackfile.net/spreadsheets/pdf_di...  siglo-XVIII  \n",
       "169  http://sharkattackfile.net/spreadsheets/pdf_di...  siglo-XVIII  "
      ]
     },
     "execution_count": 28,
     "metadata": {},
     "output_type": "execute_result"
    }
   ],
   "source": [
    "atthist2.tail(3)"
   ]
  },
  {
   "attachments": {},
   "cell_type": "markdown",
   "metadata": {},
   "source": [
    "    Fusión de nuevo_attacks con attacks_adicional. Optamos por concat() ya que nos interesa unir las columnas."
   ]
  },
  {
   "cell_type": "code",
   "execution_count": 31,
   "metadata": {},
   "outputs": [],
   "source": [
    "mega_nuevo_attack = pd.concat([nuevo_attack, attadic2], axis=1)"
   ]
  },
  {
   "cell_type": "code",
   "execution_count": 32,
   "metadata": {},
   "outputs": [
    {
     "data": {
      "text/plain": [
       "Index(['case_number', 'year', 'type', 'country', 'area', 'location',\n",
       "       'activity', 'name', 'sex', 'age', 'time', 'species', 'pdf',\n",
       "       'href_formula', 'href', 'siglo', 'case_number', 'fatal_(y/n)', 'injury',\n",
       "       'date'],\n",
       "      dtype='object')"
      ]
     },
     "execution_count": 32,
     "metadata": {},
     "output_type": "execute_result"
    }
   ],
   "source": [
    "mega_nuevo_attack.columns"
   ]
  },
  {
   "attachments": {},
   "cell_type": "markdown",
   "metadata": {},
   "source": [
    "### Ejercicio 5.\n",
    "Guardad el dataframe nuevo en un csv que usaremos mañana en la clase de pair programming.\n"
   ]
  },
  {
   "cell_type": "code",
   "execution_count": 35,
   "metadata": {},
   "outputs": [],
   "source": [
    "guardado_csv = mega_nuevo_attack.to_csv('attacks_1_4.csv', index=False)"
   ]
  }
 ],
 "metadata": {
  "kernelspec": {
   "display_name": "Python 3.9.12 ('base')",
   "language": "python",
   "name": "python3"
  },
  "language_info": {
   "codemirror_mode": {
    "name": "ipython",
    "version": 3
   },
   "file_extension": ".py",
   "mimetype": "text/x-python",
   "name": "python",
   "nbconvert_exporter": "python",
   "pygments_lexer": "ipython3",
   "version": "3.9.12 (main, Apr  4 2022, 05:22:27) [MSC v.1916 64 bit (AMD64)]"
  },
  "orig_nbformat": 4,
  "vscode": {
   "interpreter": {
    "hash": "7696c289d06a49fc095d842f95cdcbdec802ba3ef3edc9a84743d0cc9a541988"
   }
  }
 },
 "nbformat": 4,
 "nbformat_minor": 2
}
