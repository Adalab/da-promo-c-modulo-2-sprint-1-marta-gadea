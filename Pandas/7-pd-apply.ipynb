{
 "cells": [
  {
   "cell_type": "code",
   "execution_count": 1,
   "metadata": {},
   "outputs": [],
   "source": [
    "import pandas as pd\n",
    "import numpy as np\n",
    "import regex as re"
   ]
  },
  {
   "attachments": {},
   "cell_type": "markdown",
   "metadata": {},
   "source": [
    "### Ejercicio 1\n",
    "Cread una columna nueva y una función que nos de el mes en el que ocurrió el ataque. Tened en cuenta que no todas las filas tienen la misma estructura y que puede que no haya la información de mes. En ese caso devolved un nulo (NaN)."
   ]
  },
  {
   "cell_type": "code",
   "execution_count": 67,
   "metadata": {},
   "outputs": [
    {
     "data": {
      "text/html": [
       "<div>\n",
       "<style scoped>\n",
       "    .dataframe tbody tr th:only-of-type {\n",
       "        vertical-align: middle;\n",
       "    }\n",
       "\n",
       "    .dataframe tbody tr th {\n",
       "        vertical-align: top;\n",
       "    }\n",
       "\n",
       "    .dataframe thead th {\n",
       "        text-align: right;\n",
       "    }\n",
       "</style>\n",
       "<table border=\"1\" class=\"dataframe\">\n",
       "  <thead>\n",
       "    <tr style=\"text-align: right;\">\n",
       "      <th></th>\n",
       "      <th>case_number</th>\n",
       "      <th>year</th>\n",
       "      <th>type</th>\n",
       "      <th>country</th>\n",
       "      <th>area</th>\n",
       "      <th>location</th>\n",
       "      <th>activity</th>\n",
       "      <th>name</th>\n",
       "      <th>sex</th>\n",
       "      <th>age</th>\n",
       "      <th>time</th>\n",
       "      <th>species</th>\n",
       "      <th>pdf</th>\n",
       "      <th>href_formula</th>\n",
       "      <th>href</th>\n",
       "      <th>siglo</th>\n",
       "      <th>case_number.1</th>\n",
       "      <th>fatal_(y/n)</th>\n",
       "      <th>injury</th>\n",
       "      <th>date</th>\n",
       "    </tr>\n",
       "  </thead>\n",
       "  <tbody>\n",
       "    <tr>\n",
       "      <th>0</th>\n",
       "      <td>2018.06.25</td>\n",
       "      <td>2018.0</td>\n",
       "      <td>Boating</td>\n",
       "      <td>USA</td>\n",
       "      <td>California</td>\n",
       "      <td>Oceanside, San Diego County</td>\n",
       "      <td>Paddling</td>\n",
       "      <td>Julie Wolfe</td>\n",
       "      <td>F</td>\n",
       "      <td>57</td>\n",
       "      <td>18h00</td>\n",
       "      <td>White shark</td>\n",
       "      <td>2018.06.25-Wolfe.pdf</td>\n",
       "      <td>http://sharkattackfile.net/spreadsheets/pdf_di...</td>\n",
       "      <td>http://sharkattackfile.net/spreadsheets/pdf_di...</td>\n",
       "      <td>siglo-XXI</td>\n",
       "      <td>2018.06.25</td>\n",
       "      <td>N</td>\n",
       "      <td>No injury to occupant, outrigger canoe and pad...</td>\n",
       "      <td>25-Jun-2018</td>\n",
       "    </tr>\n",
       "    <tr>\n",
       "      <th>1</th>\n",
       "      <td>2018.06.03.a</td>\n",
       "      <td>2018.0</td>\n",
       "      <td>Unprovoked</td>\n",
       "      <td>BRAZIL</td>\n",
       "      <td>Pernambuco</td>\n",
       "      <td>Piedade Beach, Recife</td>\n",
       "      <td>Swimming</td>\n",
       "      <td>Jose Ernesto da Silva</td>\n",
       "      <td>M</td>\n",
       "      <td>18</td>\n",
       "      <td>Late afternoon</td>\n",
       "      <td>Tiger shark</td>\n",
       "      <td>2018.06.03.a-daSilva.pdf</td>\n",
       "      <td>http://sharkattackfile.net/spreadsheets/pdf_di...</td>\n",
       "      <td>http://sharkattackfile.net/spreadsheets/pdf_di...</td>\n",
       "      <td>siglo-XXI</td>\n",
       "      <td>2018.06.18</td>\n",
       "      <td>N</td>\n",
       "      <td>Minor injury to left thigh</td>\n",
       "      <td>18-Jun-2018</td>\n",
       "    </tr>\n",
       "    <tr>\n",
       "      <th>2</th>\n",
       "      <td>2018.05.26.b</td>\n",
       "      <td>2018.0</td>\n",
       "      <td>Unprovoked</td>\n",
       "      <td>USA</td>\n",
       "      <td>Florida</td>\n",
       "      <td>Cocoa Beach, Brevard  County</td>\n",
       "      <td>Walking</td>\n",
       "      <td>Cody High</td>\n",
       "      <td>M</td>\n",
       "      <td>15</td>\n",
       "      <td>17h00</td>\n",
       "      <td>Bull shark, 6'</td>\n",
       "      <td>2018.05.26.b-High.pdf</td>\n",
       "      <td>http://sharkattackfile.net/spreadsheets/pdf_di...</td>\n",
       "      <td>http://sharkattackfile.net/spreadsheets/pdf_di...</td>\n",
       "      <td>siglo-XXI</td>\n",
       "      <td>2018.06.09</td>\n",
       "      <td>N</td>\n",
       "      <td>Injury to left lower leg from surfboard skeg</td>\n",
       "      <td>09-Jun-2018</td>\n",
       "    </tr>\n",
       "  </tbody>\n",
       "</table>\n",
       "</div>"
      ],
      "text/plain": [
       "    case_number    year        type country        area  \\\n",
       "0    2018.06.25  2018.0     Boating     USA  California   \n",
       "1  2018.06.03.a  2018.0  Unprovoked  BRAZIL  Pernambuco   \n",
       "2  2018.05.26.b  2018.0  Unprovoked     USA     Florida   \n",
       "\n",
       "                       location  activity                    name sex age  \\\n",
       "0   Oceanside, San Diego County  Paddling             Julie Wolfe   F  57   \n",
       "1         Piedade Beach, Recife  Swimming  Jose Ernesto da Silva    M  18   \n",
       "2  Cocoa Beach, Brevard  County   Walking               Cody High   M  15   \n",
       "\n",
       "             time         species                       pdf  \\\n",
       "0           18h00     White shark      2018.06.25-Wolfe.pdf   \n",
       "1  Late afternoon     Tiger shark  2018.06.03.a-daSilva.pdf   \n",
       "2           17h00  Bull shark, 6'     2018.05.26.b-High.pdf   \n",
       "\n",
       "                                        href_formula  \\\n",
       "0  http://sharkattackfile.net/spreadsheets/pdf_di...   \n",
       "1  http://sharkattackfile.net/spreadsheets/pdf_di...   \n",
       "2  http://sharkattackfile.net/spreadsheets/pdf_di...   \n",
       "\n",
       "                                                href      siglo case_number.1  \\\n",
       "0  http://sharkattackfile.net/spreadsheets/pdf_di...  siglo-XXI    2018.06.25   \n",
       "1  http://sharkattackfile.net/spreadsheets/pdf_di...  siglo-XXI    2018.06.18   \n",
       "2  http://sharkattackfile.net/spreadsheets/pdf_di...  siglo-XXI    2018.06.09   \n",
       "\n",
       "  fatal_(y/n)                                             injury         date  \n",
       "0           N  No injury to occupant, outrigger canoe and pad...  25-Jun-2018  \n",
       "1           N                         Minor injury to left thigh  18-Jun-2018  \n",
       "2           N       Injury to left lower leg from surfboard skeg  09-Jun-2018  "
      ]
     },
     "execution_count": 67,
     "metadata": {},
     "output_type": "execute_result"
    }
   ],
   "source": [
    "pd7 = pd.read_csv(\"../Archivos/attacks_1_4.csv\")\n",
    "pd7.head(3)"
   ]
  },
  {
   "cell_type": "code",
   "execution_count": 5,
   "metadata": {},
   "outputs": [
    {
     "data": {
      "text/plain": [
       "Index(['case_number', 'year', 'type', 'country', 'area', 'location',\n",
       "       'activity', 'name', 'sex', 'age', 'time', 'species', 'pdf',\n",
       "       'href_formula', 'href', 'siglo', 'case_number.1', 'fatal_(y/n)',\n",
       "       'injury', 'date'],\n",
       "      dtype='object')"
      ]
     },
     "execution_count": 5,
     "metadata": {},
     "output_type": "execute_result"
    }
   ],
   "source": [
    "pd7.columns"
   ]
  },
  {
   "cell_type": "code",
   "execution_count": 6,
   "metadata": {},
   "outputs": [],
   "source": [
    "pd7_copia = pd7.copy()"
   ]
  },
  {
   "cell_type": "code",
   "execution_count": 22,
   "metadata": {},
   "outputs": [],
   "source": [
    "def sacar_mes(x):\n",
    "    try:\n",
    "        return re.findall(\"([a-zA-Z]{1}[a-z]{2})\\-\", x)[0]\n",
    "    except:\n",
    "        return np.nan #necesitamos añadir los valores nulos a la función, ya que de lo contrario, nos da error"
   ]
  },
  {
   "cell_type": "code",
   "execution_count": 68,
   "metadata": {},
   "outputs": [
    {
     "data": {
      "text/plain": [
       "0       Jun\n",
       "1       Jun\n",
       "2       Jun\n",
       "3       Jun\n",
       "4       Jun\n",
       "       ... \n",
       "6283    NaN\n",
       "6284    NaN\n",
       "6285    NaN\n",
       "6286    NaN\n",
       "6287    NaN\n",
       "Name: mes, Length: 6288, dtype: object"
      ]
     },
     "execution_count": 68,
     "metadata": {},
     "output_type": "execute_result"
    }
   ],
   "source": [
    "pd7_copia[\"mes\"] = pd7_copia['date'].apply(sacar_mes)\n",
    "pd7_copia['mes']"
   ]
  },
  {
   "attachments": {},
   "cell_type": "markdown",
   "metadata": {},
   "source": [
    "### Ejercicio 2\n",
    "Vamos con la columna fatal_(y/n). Lo primero que tenéis que hacer es evaluar los valores únicos que hay. Esperaríamos tener solo dos valores: y y n, pero tristemente no será así 😭. Cread una columna nueva y una función que devuelva únicamente y o n y que devuelva un nulo (NaN) si no se encuentra el valor."
   ]
  },
  {
   "cell_type": "code",
   "execution_count": 69,
   "metadata": {},
   "outputs": [
    {
     "data": {
      "text/plain": [
       "array(['N', 'Y', nan, 'M', 'UNKNOWN', '2017', ' N', 'N ', 'y'],\n",
       "      dtype=object)"
      ]
     },
     "execution_count": 69,
     "metadata": {},
     "output_type": "execute_result"
    }
   ],
   "source": [
    "#valoramos los casos unicos.\n",
    "pd7_copia[\"fatal_(y/n)\"].unique()"
   ]
  },
  {
   "cell_type": "code",
   "execution_count": 71,
   "metadata": {},
   "outputs": [],
   "source": [
    "def limpiar (col):\n",
    "    try:\n",
    "        if col == ' N' or col == 'N ' or col == 'N':\n",
    "            return 'N'\n",
    "        elif col == 'y' or col == 'Y':\n",
    "            return 'Y'\n",
    "        elif col == 'Y':\n",
    "            return 'Y'\n",
    "    except:\n",
    "        return np.nan"
   ]
  },
  {
   "cell_type": "code",
   "execution_count": 72,
   "metadata": {},
   "outputs": [],
   "source": [
    "pd7_copia['new_fatal_(y/n)'] = pd7_copia['fatal_(y/n)'].apply(limpiar)"
   ]
  },
  {
   "cell_type": "code",
   "execution_count": 74,
   "metadata": {},
   "outputs": [
    {
     "data": {
      "text/plain": [
       "array(['N', 'Y', None], dtype=object)"
      ]
     },
     "execution_count": 74,
     "metadata": {},
     "output_type": "execute_result"
    }
   ],
   "source": [
    "pd7_copia['new_fatal_(y/n)'].unique()"
   ]
  },
  {
   "attachments": {},
   "cell_type": "markdown",
   "metadata": {},
   "source": [
    "### Ejercicio 3.\n",
    "Seguid la misma lógica que en el ejercicio anterior pero con la columna sex. Pero en este caso vamos a incluir un retito más: En este caso querremos tener dos valores únicos F y M. De nuevo en la columna hay otros carácteres raros como 'M ', 'lli', 'N', '.'. En caso de que sea nulo, que la función devuelva nulo (np.nan)."
   ]
  },
  {
   "cell_type": "code",
   "execution_count": 75,
   "metadata": {},
   "outputs": [
    {
     "data": {
      "text/plain": [
       "array(['F', 'M', 'lli', nan], dtype=object)"
      ]
     },
     "execution_count": 75,
     "metadata": {},
     "output_type": "execute_result"
    }
   ],
   "source": [
    "#extraemos los valores únicos de la columna 'sex':\n",
    "pd7_copia['sex'].unique()"
   ]
  },
  {
   "cell_type": "code",
   "execution_count": 76,
   "metadata": {},
   "outputs": [],
   "source": [
    "#creamos la función:\n",
    "def norm_sex (col):\n",
    "    try:\n",
    "        if col == 'F':\n",
    "            return 'F'\n",
    "        elif col == 'M':\n",
    "            return 'M'\n",
    "    except:\n",
    "        return np.nan"
   ]
  },
  {
   "cell_type": "code",
   "execution_count": 77,
   "metadata": {},
   "outputs": [
    {
     "data": {
      "text/plain": [
       "array(['F', 'M', None], dtype=object)"
      ]
     },
     "execution_count": 77,
     "metadata": {},
     "output_type": "execute_result"
    }
   ],
   "source": [
    "pd7_copia['sex_norm'] = pd7['sex'].apply(norm_sex)\n",
    "#comprobamos los valores únicos de la nueva columna:\n",
    "pd7_copia['sex_norm'].unique()"
   ]
  },
  {
   "attachments": {},
   "cell_type": "markdown",
   "metadata": {},
   "source": [
    "### Ejercicio 4.\n",
    "Una vez que hayáis terminado eliminad las columnas originales conservando las nuevas."
   ]
  },
  {
   "cell_type": "code",
   "execution_count": 81,
   "metadata": {},
   "outputs": [],
   "source": [
    "pd7_copia = pd7_copia.drop(['sex', 'fatal_(y/n)'], axis=1)"
   ]
  },
  {
   "cell_type": "code",
   "execution_count": 82,
   "metadata": {},
   "outputs": [
    {
     "data": {
      "text/plain": [
       "Index(['case_number', 'year', 'type', 'country', 'area', 'location',\n",
       "       'activity', 'name', 'age', 'time', 'species', 'pdf', 'href_formula',\n",
       "       'href', 'siglo', 'case_number.1', 'injury', 'date', 'mes', 'sex_norm',\n",
       "       'new_fatal_(y/n)'],\n",
       "      dtype='object')"
      ]
     },
     "execution_count": 82,
     "metadata": {},
     "output_type": "execute_result"
    }
   ],
   "source": [
    "pd7_copia.columns"
   ]
  },
  {
   "attachments": {},
   "cell_type": "markdown",
   "metadata": {},
   "source": [
    "### Ejercicio 5.\n",
    "Guardad el dataframe en un csv que usaremos más adelante"
   ]
  },
  {
   "cell_type": "code",
   "execution_count": 83,
   "metadata": {},
   "outputs": [],
   "source": [
    "pd7_copia.to_csv('../Archivos/attacks_def.csv')"
   ]
  }
 ],
 "metadata": {
  "kernelspec": {
   "display_name": "base",
   "language": "python",
   "name": "python3"
  },
  "language_info": {
   "codemirror_mode": {
    "name": "ipython",
    "version": 3
   },
   "file_extension": ".py",
   "mimetype": "text/x-python",
   "name": "python",
   "nbconvert_exporter": "python",
   "pygments_lexer": "ipython3",
   "version": "3.9.12"
  },
  "orig_nbformat": 4,
  "vscode": {
   "interpreter": {
    "hash": "7696c289d06a49fc095d842f95cdcbdec802ba3ef3edc9a84743d0cc9a541988"
   }
  }
 },
 "nbformat": 4,
 "nbformat_minor": 2
}
