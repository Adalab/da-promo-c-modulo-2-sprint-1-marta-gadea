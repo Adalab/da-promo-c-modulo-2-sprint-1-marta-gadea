{
 "cells": [
  {
   "cell_type": "markdown",
   "metadata": {},
   "source": [
    "## Ejercicio 1\n",
    "Cread un array de dos dimensiones de 5 filas y 3 columnas. Sobre el array creado anteriormente, extraed:"
   ]
  },
  {
   "cell_type": "code",
   "execution_count": 1,
   "metadata": {},
   "outputs": [],
   "source": [
    "import numpy as np\n",
    "import pandas as pd"
   ]
  },
  {
   "cell_type": "code",
   "execution_count": 7,
   "metadata": {},
   "outputs": [
    {
     "data": {
      "text/plain": [
       "array([[0.548487  , 0.19482402, 0.96244203],\n",
       "       [0.24092082, 0.13018326, 0.03233572],\n",
       "       [0.42593989, 0.15440494, 0.74896832],\n",
       "       [0.17457391, 0.23222756, 0.33894262],\n",
       "       [0.48413086, 0.58800743, 0.05571291]])"
      ]
     },
     "execution_count": 7,
     "metadata": {},
     "output_type": "execute_result"
    }
   ],
   "source": [
    "ejercicio1 = np.random.rand(5, 3)\n",
    "ejercicio1"
   ]
  },
  {
   "cell_type": "markdown",
   "metadata": {},
   "source": [
    "- El valor de la primera fila y la segunda columna."
   ]
  },
  {
   "cell_type": "code",
   "execution_count": 12,
   "metadata": {},
   "outputs": [
    {
     "data": {
      "text/plain": [
       "0.032335723216638024"
      ]
     },
     "execution_count": 12,
     "metadata": {},
     "output_type": "execute_result"
    }
   ],
   "source": [
    "ejercicio1[1, 2] #buscamos el valor según el conteo de Python"
   ]
  },
  {
   "cell_type": "markdown",
   "metadata": {},
   "source": [
    "- Los valores de la segunda fila y las dos primeras columnas."
   ]
  },
  {
   "cell_type": "code",
   "execution_count": 14,
   "metadata": {},
   "outputs": [
    {
     "data": {
      "text/plain": [
       "array([0.42593989, 0.15440494])"
      ]
     },
     "execution_count": 14,
     "metadata": {},
     "output_type": "execute_result"
    }
   ],
   "source": [
    "ejercicio1[2, :2]"
   ]
  },
  {
   "cell_type": "markdown",
   "metadata": {},
   "source": [
    "- Extraed las filas pares (incluyendo la 0) y todas las columnas"
   ]
  },
  {
   "cell_type": "code",
   "execution_count": 15,
   "metadata": {},
   "outputs": [
    {
     "data": {
      "text/plain": [
       "array([[0.548487  , 0.19482402, 0.96244203],\n",
       "       [0.42593989, 0.15440494, 0.74896832],\n",
       "       [0.48413086, 0.58800743, 0.05571291]])"
      ]
     },
     "execution_count": 15,
     "metadata": {},
     "output_type": "execute_result"
    }
   ],
   "source": [
    "ejercicio1[::2]"
   ]
  },
  {
   "cell_type": "markdown",
   "metadata": {},
   "source": [
    "- Extraed los valores que sean mayores que 0.5"
   ]
  },
  {
   "cell_type": "code",
   "execution_count": 17,
   "metadata": {},
   "outputs": [
    {
     "data": {
      "text/plain": [
       "array([0.548487  , 0.96244203, 0.74896832, 0.58800743])"
      ]
     },
     "execution_count": 17,
     "metadata": {},
     "output_type": "execute_result"
    }
   ],
   "source": [
    "ejercicio1[ejercicio1 > 0.5]"
   ]
  },
  {
   "cell_type": "markdown",
   "metadata": {},
   "source": [
    "- Extraed los valores menores que 0.2 o mayores que 0.5"
   ]
  },
  {
   "cell_type": "code",
   "execution_count": 18,
   "metadata": {},
   "outputs": [
    {
     "data": {
      "text/plain": [
       "array([0.548487  , 0.19482402, 0.96244203, 0.13018326, 0.03233572,\n",
       "       0.15440494, 0.74896832, 0.17457391, 0.58800743, 0.05571291])"
      ]
     },
     "execution_count": 18,
     "metadata": {},
     "output_type": "execute_result"
    }
   ],
   "source": [
    "ejercicio1[(ejercicio1 < 0.2) | (ejercicio1 > 0.5)]"
   ]
  },
  {
   "cell_type": "markdown",
   "metadata": {},
   "source": [
    "- Cread dos array de tres dimensiones:\n",
    "    - El primero de 2 matrices, 5 filas y 3 columnas.\n",
    "    - El segundo de 3 matrices, 2 filas y 5 columnas"
   ]
  },
  {
   "cell_type": "code",
   "execution_count": 20,
   "metadata": {},
   "outputs": [
    {
     "data": {
      "text/plain": [
       "array([[[24, 45, 44],\n",
       "        [28, 31,  5],\n",
       "        [ 5, 27, 24],\n",
       "        [36, 17,  0],\n",
       "        [19, 20, 29]],\n",
       "\n",
       "       [[47,  1,  5],\n",
       "        [ 1, 24, 20],\n",
       "        [28, 23, 28],\n",
       "        [26, 37, 10],\n",
       "        [ 3, 27, 47]]])"
      ]
     },
     "execution_count": 20,
     "metadata": {},
     "output_type": "execute_result"
    }
   ],
   "source": [
    "arrtri1 = np.random.randint(0, 50, (2, 5, 3))\n",
    "arrtri1"
   ]
  },
  {
   "cell_type": "code",
   "execution_count": 21,
   "metadata": {},
   "outputs": [
    {
     "data": {
      "text/plain": [
       "array([[[40, 41, 41, 39, 38],\n",
       "        [36, 42, 27, 15, 39]],\n",
       "\n",
       "       [[12, 41, 37,  1, 16],\n",
       "        [11, 36, 22, 13, 12]],\n",
       "\n",
       "       [[17, 43, 25, 38, 20],\n",
       "        [ 9,  2, 16, 25, 43]]])"
      ]
     },
     "execution_count": 21,
     "metadata": {},
     "output_type": "execute_result"
    }
   ],
   "source": [
    "arrtri2 = np.random.randint(0, 50, (3, 2, 5))\n",
    "arrtri2"
   ]
  },
  {
   "cell_type": "markdown",
   "metadata": {},
   "source": [
    "- Haced un análisis exploratorio de los array creados. Recordad que en el ejercicio de ayer nos creamos una función para esto."
   ]
  },
  {
   "cell_type": "code",
   "execution_count": 22,
   "metadata": {},
   "outputs": [],
   "source": [
    "def check_array(array):\n",
    "    return type(array), array.ndim, array.shape, array.dtype"
   ]
  },
  {
   "cell_type": "code",
   "execution_count": 23,
   "metadata": {},
   "outputs": [
    {
     "data": {
      "text/plain": [
       "(numpy.ndarray, 2, (5, 3), dtype('float64'))"
      ]
     },
     "execution_count": 23,
     "metadata": {},
     "output_type": "execute_result"
    }
   ],
   "source": [
    "check_array(ejercicio1)"
   ]
  },
  {
   "cell_type": "code",
   "execution_count": 24,
   "metadata": {},
   "outputs": [
    {
     "data": {
      "text/plain": [
       "(numpy.ndarray, 3, (2, 5, 3), dtype('int32'))"
      ]
     },
     "execution_count": 24,
     "metadata": {},
     "output_type": "execute_result"
    }
   ],
   "source": [
    "check_array(arrtri1)"
   ]
  },
  {
   "cell_type": "code",
   "execution_count": 25,
   "metadata": {},
   "outputs": [
    {
     "data": {
      "text/plain": [
       "(numpy.ndarray, 3, (3, 2, 5), dtype('int32'))"
      ]
     },
     "execution_count": 25,
     "metadata": {},
     "output_type": "execute_result"
    }
   ],
   "source": [
    "check_array(arrtri2)"
   ]
  },
  {
   "cell_type": "markdown",
   "metadata": {},
   "source": [
    "- Sumad los dos arrays. ¿Podéis? ¿Por qué?"
   ]
  },
  {
   "cell_type": "code",
   "execution_count": 26,
   "metadata": {},
   "outputs": [
    {
     "ename": "ValueError",
     "evalue": "operands could not be broadcast together with shapes (2,5,3) (3,2,5) ",
     "output_type": "error",
     "traceback": [
      "\u001b[1;31m---------------------------------------------------------------------------\u001b[0m",
      "\u001b[1;31mValueError\u001b[0m                                Traceback (most recent call last)",
      "Cell \u001b[1;32mIn [26], line 1\u001b[0m\n\u001b[1;32m----> 1\u001b[0m arrtri1 \u001b[39m+\u001b[39;49m arrtri2\n",
      "\u001b[1;31mValueError\u001b[0m: operands could not be broadcast together with shapes (2,5,3) (3,2,5) "
     ]
    }
   ],
   "source": [
    "arrtri1 + arrtri2"
   ]
  },
  {
   "cell_type": "markdown",
   "metadata": {},
   "source": [
    "No podemos sumar los dos arrays ya que no pueden sumarse arrays tridimensionales de distintas dimensiones. Si sumamos dos arrays, siendo uno bidimensional (ejercicio1) y otro multidimensional no hay problema (se suman las columnas y filas de la bi en todas las filas y columnas de la multidimensional):"
   ]
  },
  {
   "cell_type": "code",
   "execution_count": 27,
   "metadata": {},
   "outputs": [
    {
     "data": {
      "text/plain": [
       "array([[[24.548487  , 45.19482402, 44.96244203],\n",
       "        [28.24092082, 31.13018326,  5.03233572],\n",
       "        [ 5.42593989, 27.15440494, 24.74896832],\n",
       "        [36.17457391, 17.23222756,  0.33894262],\n",
       "        [19.48413086, 20.58800743, 29.05571291]],\n",
       "\n",
       "       [[47.548487  ,  1.19482402,  5.96244203],\n",
       "        [ 1.24092082, 24.13018326, 20.03233572],\n",
       "        [28.42593989, 23.15440494, 28.74896832],\n",
       "        [26.17457391, 37.23222756, 10.33894262],\n",
       "        [ 3.48413086, 27.58800743, 47.05571291]]])"
      ]
     },
     "execution_count": 27,
     "metadata": {},
     "output_type": "execute_result"
    }
   ],
   "source": [
    "ejercicio1 + arrtri1"
   ]
  },
  {
   "cell_type": "markdown",
   "metadata": {},
   "source": [
    "- Para cambiar la forma de un array y poder hacer operaciones entre arrays que tienen distintas formas hemos aprendido dos métodos:\n",
    "    - .reshape()\n",
    "    - .transpose()\n",
    "- Utiliza estas dos funciones para cambiar la forma de los array y hacer operaciones entre ellos."
   ]
  },
  {
   "cell_type": "code",
   "execution_count": 42,
   "metadata": {},
   "outputs": [
    {
     "data": {
      "text/plain": [
       "array([[[24, 45],\n",
       "        [44, 28],\n",
       "        [31,  5],\n",
       "        [ 5, 27],\n",
       "        [24, 36]],\n",
       "\n",
       "       [[17,  0],\n",
       "        [19, 20],\n",
       "        [29, 47],\n",
       "        [ 1,  5],\n",
       "        [ 1, 24]],\n",
       "\n",
       "       [[20, 28],\n",
       "        [23, 28],\n",
       "        [26, 37],\n",
       "        [10,  3],\n",
       "        [27, 47]]])"
      ]
     },
     "execution_count": 42,
     "metadata": {},
     "output_type": "execute_result"
    }
   ],
   "source": [
    "arrtri1_b = np.reshape(arrtri1, (3, 5, 2))\n",
    "arrtri1_b"
   ]
  },
  {
   "cell_type": "code",
   "execution_count": 52,
   "metadata": {},
   "outputs": [
    {
     "data": {
      "text/plain": [
       "array([[[40, 36],\n",
       "        [41, 42],\n",
       "        [41, 27],\n",
       "        [39, 15],\n",
       "        [38, 39]],\n",
       "\n",
       "       [[12, 11],\n",
       "        [41, 36],\n",
       "        [37, 22],\n",
       "        [ 1, 13],\n",
       "        [16, 12]],\n",
       "\n",
       "       [[17,  9],\n",
       "        [43,  2],\n",
       "        [25, 16],\n",
       "        [38, 25],\n",
       "        [20, 43]]])"
      ]
     },
     "execution_count": 52,
     "metadata": {},
     "output_type": "execute_result"
    }
   ],
   "source": [
    "arrtri2_b = np.transpose(arrtri2, (0, 2, 1))\n",
    "arrtri2_b\n",
    "#a efectos prácticos, lo estamos transformando / 'reshapeando' a arrtri2_b(3, 5, 2)"
   ]
  },
  {
   "cell_type": "markdown",
   "metadata": {},
   "source": [
    "        - suma:"
   ]
  },
  {
   "cell_type": "code",
   "execution_count": 53,
   "metadata": {},
   "outputs": [
    {
     "data": {
      "text/plain": [
       "array([[[64, 81],\n",
       "        [85, 70],\n",
       "        [72, 32],\n",
       "        [44, 42],\n",
       "        [62, 75]],\n",
       "\n",
       "       [[29, 11],\n",
       "        [60, 56],\n",
       "        [66, 69],\n",
       "        [ 2, 18],\n",
       "        [17, 36]],\n",
       "\n",
       "       [[37, 37],\n",
       "        [66, 30],\n",
       "        [51, 53],\n",
       "        [48, 28],\n",
       "        [47, 90]]])"
      ]
     },
     "execution_count": 53,
     "metadata": {},
     "output_type": "execute_result"
    }
   ],
   "source": [
    "np.add(arrtri1_b, arrtri2_b)"
   ]
  },
  {
   "cell_type": "markdown",
   "metadata": {},
   "source": [
    "        multiplicación:"
   ]
  },
  {
   "cell_type": "code",
   "execution_count": 54,
   "metadata": {},
   "outputs": [
    {
     "data": {
      "text/plain": [
       "array([[[ 960, 1620],\n",
       "        [1804, 1176],\n",
       "        [1271,  135],\n",
       "        [ 195,  405],\n",
       "        [ 912, 1404]],\n",
       "\n",
       "       [[ 204,    0],\n",
       "        [ 779,  720],\n",
       "        [1073, 1034],\n",
       "        [   1,   65],\n",
       "        [  16,  288]],\n",
       "\n",
       "       [[ 340,  252],\n",
       "        [ 989,   56],\n",
       "        [ 650,  592],\n",
       "        [ 380,   75],\n",
       "        [ 540, 2021]]])"
      ]
     },
     "execution_count": 54,
     "metadata": {},
     "output_type": "execute_result"
    }
   ],
   "source": [
    "np.multiply(arrtri1_b, arrtri2_b)"
   ]
  },
  {
   "cell_type": "markdown",
   "metadata": {},
   "source": [
    "        división"
   ]
  },
  {
   "cell_type": "code",
   "execution_count": 55,
   "metadata": {},
   "outputs": [
    {
     "data": {
      "text/plain": [
       "array([[[ 0.6       ,  1.25      ],\n",
       "        [ 1.07317073,  0.66666667],\n",
       "        [ 0.75609756,  0.18518519],\n",
       "        [ 0.12820513,  1.8       ],\n",
       "        [ 0.63157895,  0.92307692]],\n",
       "\n",
       "       [[ 1.41666667,  0.        ],\n",
       "        [ 0.46341463,  0.55555556],\n",
       "        [ 0.78378378,  2.13636364],\n",
       "        [ 1.        ,  0.38461538],\n",
       "        [ 0.0625    ,  2.        ]],\n",
       "\n",
       "       [[ 1.17647059,  3.11111111],\n",
       "        [ 0.53488372, 14.        ],\n",
       "        [ 1.04      ,  2.3125    ],\n",
       "        [ 0.26315789,  0.12      ],\n",
       "        [ 1.35      ,  1.09302326]]])"
      ]
     },
     "execution_count": 55,
     "metadata": {},
     "output_type": "execute_result"
    }
   ],
   "source": [
    "np.divide(arrtri1_b, arrtri2_b)"
   ]
  }
 ],
 "metadata": {
  "kernelspec": {
   "display_name": "Python 3.10.7 64-bit",
   "language": "python",
   "name": "python3"
  },
  "language_info": {
   "codemirror_mode": {
    "name": "ipython",
    "version": 3
   },
   "file_extension": ".py",
   "mimetype": "text/x-python",
   "name": "python",
   "nbconvert_exporter": "python",
   "pygments_lexer": "ipython3",
   "version": "3.10.7"
  },
  "orig_nbformat": 4,
  "vscode": {
   "interpreter": {
    "hash": "0c7d85b6ca8c4414e9248eeaa7ba80594b1aefb2b06fa07a2481546730d70288"
   }
  }
 },
 "nbformat": 4,
 "nbformat_minor": 2
}
