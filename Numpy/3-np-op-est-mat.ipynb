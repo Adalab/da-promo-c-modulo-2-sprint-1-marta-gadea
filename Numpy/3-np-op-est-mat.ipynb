{
 "cells": [
  {
   "attachments": {},
   "cell_type": "markdown",
   "metadata": {},
   "source": [
    "### Ejercicio 1\n",
    "Cread un array de tres dimensiones de 2 matrices, 3 filas y 5 columnas cuyos valores solo tengan 1 decimales. Sobre el array creado anteriormente, extraed:"
   ]
  },
  {
   "cell_type": "code",
   "execution_count": 36,
   "metadata": {},
   "outputs": [],
   "source": [
    "import numpy as np"
   ]
  },
  {
   "cell_type": "code",
   "execution_count": 37,
   "metadata": {},
   "outputs": [
    {
     "data": {
      "text/plain": [
       "array([[[0.2, 0.5, 0.2, 0.5, 0.3],\n",
       "        [0.2, 0.2, 0.9, 0.4, 0.6],\n",
       "        [0.5, 0.9, 0.3, 0. , 0.8]],\n",
       "\n",
       "       [[0.8, 0.6, 0.5, 0.8, 0.7],\n",
       "        [0.1, 0.1, 0.4, 0.9, 0.8],\n",
       "        [0.3, 0.6, 0.9, 0.1, 0.5]]])"
      ]
     },
     "execution_count": 37,
     "metadata": {},
     "output_type": "execute_result"
    }
   ],
   "source": [
    "arr1 = np.random.rand(2,3,5).round(1)\n",
    "arr1"
   ]
  },
  {
   "attachments": {},
   "cell_type": "markdown",
   "metadata": {},
   "source": [
    "### Ejercicio 2\n",
    "Calculad la media del array y almacenarlos en una variable. Redondead a un decimal."
   ]
  },
  {
   "cell_type": "code",
   "execution_count": 38,
   "metadata": {},
   "outputs": [
    {
     "data": {
      "text/plain": [
       "0.5"
      ]
     },
     "execution_count": 38,
     "metadata": {},
     "output_type": "execute_result"
    }
   ],
   "source": [
    "#optimización del proceso:\n",
    "arr1_media = np.mean(arr1).round(1)\n",
    "arr1_media"
   ]
  },
  {
   "attachments": {},
   "cell_type": "markdown",
   "metadata": {},
   "source": [
    "### Ejercicio 3\n",
    "Calculad el valor máximo del array y almacenarlos en una variable. Redondead a un decimal."
   ]
  },
  {
   "cell_type": "code",
   "execution_count": 39,
   "metadata": {},
   "outputs": [
    {
     "data": {
      "text/plain": [
       "0.9"
      ]
     },
     "execution_count": 39,
     "metadata": {},
     "output_type": "execute_result"
    }
   ],
   "source": [
    "arr1_max = np.max(arr1).round(1)\n",
    "arr1_max"
   ]
  },
  {
   "attachments": {},
   "cell_type": "markdown",
   "metadata": {},
   "source": [
    "### Ejercicio 4\n",
    "Calculad el valor mínimo del array y almacenarlos en una variable. Redondead a un decimal."
   ]
  },
  {
   "cell_type": "code",
   "execution_count": 40,
   "metadata": {},
   "outputs": [
    {
     "data": {
      "text/plain": [
       "0.0"
      ]
     },
     "execution_count": 40,
     "metadata": {},
     "output_type": "execute_result"
    }
   ],
   "source": [
    "#optimización del proceso:\n",
    "arr1_min = np.min(arr1).round(1)\n",
    "arr1_min"
   ]
  },
  {
   "attachments": {},
   "cell_type": "markdown",
   "metadata": {},
   "source": [
    "### Ejercicio 5\n",
    "Cread un array vacío con la misma forma y dimensiones que el array creado anteriormente.\n",
    "Vamos a reemplazar los valores de la matriz vacía que nos acabamos de crear pero basándonos en los valores del primer array bajo las siguientes condiciones:\n",
    "* Si el valor del array es igual que la media, se reemplaza por \"A\".\n",
    "* Si el valor del array es mayor que la media, se reemplaza por \"B\".\n",
    "* Si el valor del array es menor que la media, se reemplaza por \"C\".\n",
    "* Si el valor es igual que el máximo, se reemplaza por \"D\".\n",
    "* Si el valor es igual que el mínimo, se reemplaza por \"E\".\n",
    "\n",
    "¡¡ Pista !! Tendréis que iterar por el array y cambiar los valores de la matriz vacía. Para eso tendremos que usar distintos condicionales.\n"
   ]
  },
  {
   "cell_type": "code",
   "execution_count": 41,
   "metadata": {},
   "outputs": [
    {
     "data": {
      "text/plain": [
       "[[['A', 'B', 'C', 'B', 'C'],\n",
       "  ['C', 'B', 'B', 'C', 'C'],\n",
       "  ['D', 'C', 'C', 'B', 'C']],\n",
       " [['E', 'C', 'A', 'B', 'C'],\n",
       "  ['B', 'B', 'B', 'E', 'B'],\n",
       "  ['B', 'C', 'B', 'B', 'C']]]"
      ]
     },
     "execution_count": 41,
     "metadata": {},
     "output_type": "execute_result"
    }
   ],
   "source": [
    "# a modo de ejemplo. Si tenemos el siguiente array\n",
    "[[[0.4, 0.7, 0.2, 0.9, 0.2],\n",
    "    [0.1, 0.9, 0.6, 0.1, 0.2],\n",
    "    [1. , 0.2, 0.1, 0.8, 0.3]],\n",
    "   [[0. , 0.3, 0.4, 0.5, 0.1],\n",
    "    [0.5, 0.7, 0.9, 0. , 0.8],\n",
    "    [0.5, 0.3, 0.5, 0.8, 0.1]]]\n",
    "\n",
    "# sabiendo que la media es 0.4 y el máximo es 1.0 y el mínimo es 0.0\n",
    "# nuestro array vacío debería quedar como este:\n",
    "[[[\"A\", \"B\", \"C\", \"B\", \"C\"],\n",
    "    [\"C\", \"B\", \"B\", \"C\", \"C\"],\n",
    "    [\"D\" , \"C\", \"C\", \"B\", \"C\"]],\n",
    "   [[\"E\" , \"C\", \"A\", \"B\", \"C\"],\n",
    "    [\"B\", \"B\",\"B\", \"E\" , \"B\"],\n",
    "    [\"B\", \"C\", \"B\", \"B\", \"C\"]]]"
   ]
  },
  {
   "cell_type": "code",
   "execution_count": 42,
   "metadata": {},
   "outputs": [
    {
     "data": {
      "text/plain": [
       "array([[['', '', '', '', ''],\n",
       "        ['', '', '', '', ''],\n",
       "        ['', '', '', '', '']],\n",
       "\n",
       "       [['', '', '', '', ''],\n",
       "        ['', '', '', '', ''],\n",
       "        ['', '', '', '', '']]], dtype='<U1')"
      ]
     },
     "execution_count": 42,
     "metadata": {},
     "output_type": "execute_result"
    }
   ],
   "source": [
    "arr_ejer5 = np.empty((2,3,5), dtype = str) \n",
    "arr_ejer5"
   ]
  },
  {
   "cell_type": "code",
   "execution_count": 46,
   "metadata": {},
   "outputs": [
    {
     "name": "stdout",
     "output_type": "stream",
     "text": [
      "[[['C' 'A' 'C' 'A' 'C']\n",
      "  ['C' 'C' 'B' 'C' 'B']\n",
      "  ['A' 'B' 'C' 'C' 'B']]\n",
      "\n",
      " [['B' 'B' 'A' 'B' 'B']\n",
      "  ['C' 'C' 'C' 'B' 'B']\n",
      "  ['C' 'B' 'B' 'C' 'A']]]\n"
     ]
    }
   ],
   "source": [
    "forma = arr1.shape\n",
    "\n",
    "for matrices in range(0, forma[0]):#hay que hacerlo con el ARR1- i ahora son las matrices. le pedimos la long. de las matrices\n",
    "    for filas in range(0, forma[1]): #ahora son las filas dentro de cada matriz. le pedimos la long. de las columnas\n",
    "        for n in range(0, forma[2]): #ahora iteramos por los numeros. le pedimos la long. de las filas\n",
    "            \n",
    "            if arr1[matrices, filas, n] == arr1_media:\n",
    "                arr_ejer5[matrices, filas, n] = 'A'\n",
    "            elif arr1[matrices, filas, n] > arr1_media:\n",
    "                arr_ejer5[matrices, filas, n] = 'B'\n",
    "            elif arr1[matrices, filas, n] < arr1_media:\n",
    "                arr_ejer5[matrices, filas, n] = 'C'\n",
    "            elif arr1[matrices, filas, n] == arr1_max:\n",
    "                arr_ejer5[matrices, filas, n] = 'D'\n",
    "            elif arr1[matrices, filas, n] == arr1_min:\n",
    "                arr_ejer5[matrices, filas, n] = 'E'\n",
    "\n",
    "print(arr_ejer5)"
   ]
  },
  {
   "attachments": {},
   "cell_type": "markdown",
   "metadata": {},
   "source": [
    "### Ejercicio 6.\n",
    "Estupendo, tenemos un array con strings. Ahora realizaremos un ejercicio similar al anterior, pero en este caso nos crearemos un array vacío unidimensional de 30 elementos. Al final de este ejercicio acabaremos teniendo un array de tres dimensiones con la misma forma que el primero que nos creamos.\n",
    "\n",
    "En este caso:\n",
    "* Si el valor del array creado en el ejercicio anterior es \"A\" o \"B\" lo reemplazaremos por 1.\n",
    "* Si el valor del array creado en el ejercicio anterior es \"C\" o \"D\" lo reemplazaremos por 2.\n",
    "* Si el valor del array creado en el ejercicio anterior es \"E\" lo reemplazaremos por 3."
   ]
  },
  {
   "cell_type": "code",
   "execution_count": 61,
   "metadata": {},
   "outputs": [
    {
     "data": {
      "text/plain": [
       "array([1. , 0.8, 0.1, 0.9, 0. , 0.8, 0.7, 0.5, 0.2, 0.6, 0.9, 0.2, 0.8,\n",
       "       0. , 0.1, 0.8, 0.4, 0.1, 0.9, 1. , 0.8, 0.1, 0.3, 0.6, 0.5, 0.7,\n",
       "       0.6, 0.2, 0.6, 0.8])"
      ]
     },
     "execution_count": 61,
     "metadata": {},
     "output_type": "execute_result"
    }
   ],
   "source": [
    "arr_ejer6 = np.empty(30)\n",
    "arr_ejer6"
   ]
  },
  {
   "cell_type": "code",
   "execution_count": 50,
   "metadata": {},
   "outputs": [
    {
     "data": {
      "text/plain": [
       "array([[['C', 'A', 'C', 'A', 'C'],\n",
       "        ['C', 'C', 'B', 'C', 'B'],\n",
       "        ['A', 'B', 'C', 'C', 'B']],\n",
       "\n",
       "       [['B', 'B', 'A', 'B', 'B'],\n",
       "        ['C', 'C', 'C', 'B', 'B'],\n",
       "        ['C', 'B', 'B', 'C', 'A']]], dtype='<U1')"
      ]
     },
     "execution_count": 50,
     "metadata": {},
     "output_type": "execute_result"
    }
   ],
   "source": [
    "arr_ejer5"
   ]
  },
  {
   "cell_type": "code",
   "execution_count": 65,
   "metadata": {},
   "outputs": [
    {
     "name": "stdout",
     "output_type": "stream",
     "text": [
      "[1. 1. 1. 1. 1. 2. 2. 2. 1. 1. 2. 1. 1. 2. 1. 1. 1. 1. 1. 1. 2. 2. 2. 1.\n",
      " 1. 2. 1. 1. 2. 1.]\n"
     ]
    }
   ],
   "source": [
    "for matrices in range(0, forma[0]): #hay que hacerlo con el ARR1- i ahora son las matrices. le pedimos la long. de las matrices\n",
    "    c = 0 #creamos un contador para que itere\n",
    "    for filas in range(0, forma[1]): #ahora son las filas dentro de cada matriz. le pedimos la long. de las columnas\n",
    "        for n in range(0, forma[2]): #ahora iteramos por los numeros. le pedimos la long. de las filas\n",
    "           \n",
    "            if arr_ejer5[matrices, filas, n] == 'A' or arr_ejer5[matrices, filas, n] == 'B':\n",
    "                arr_ejer6[c] = 1\n",
    "            elif arr_ejer5[matrices, filas, n] == 'C' or arr_ejer5[matrices, filas, n] == 'D':\n",
    "                arr_ejer6[c] = 2\n",
    "            elif arr_ejer5[matrices, filas, n] == 'E':\n",
    "                arr_ejer6[c] = 3\n",
    "            c += 1\n",
    "print(arr_ejer6)"
   ]
  },
  {
   "attachments": {},
   "cell_type": "markdown",
   "metadata": {},
   "source": [
    "* Una vez que hayas reemplazado todos los valores cambiad la forma del array para que sea de tres dimensiones, con 2 matrices, 3 filas y 5 columnas."
   ]
  },
  {
   "cell_type": "code",
   "execution_count": 66,
   "metadata": {},
   "outputs": [
    {
     "data": {
      "text/plain": [
       "array([[[1., 1., 1., 1., 1.],\n",
       "        [2., 2., 2., 1., 1.],\n",
       "        [2., 1., 1., 2., 1.]],\n",
       "\n",
       "       [[1., 1., 1., 1., 1.],\n",
       "        [2., 2., 2., 1., 1.],\n",
       "        [2., 1., 1., 2., 1.]]])"
      ]
     },
     "execution_count": 66,
     "metadata": {},
     "output_type": "execute_result"
    }
   ],
   "source": [
    "arr_ejer6.reshape(2, 3, 5)"
   ]
  }
 ],
 "metadata": {
  "kernelspec": {
   "display_name": "Python 3",
   "language": "python",
   "name": "python3"
  },
  "language_info": {
   "codemirror_mode": {
    "name": "ipython",
    "version": 3
   },
   "file_extension": ".py",
   "mimetype": "text/x-python",
   "name": "python",
   "nbconvert_exporter": "python",
   "pygments_lexer": "ipython3",
   "version": "3.10.7"
  },
  "orig_nbformat": 4,
  "vscode": {
   "interpreter": {
    "hash": "0c7d85b6ca8c4414e9248eeaa7ba80594b1aefb2b06fa07a2481546730d70288"
   }
  }
 },
 "nbformat": 4,
 "nbformat_minor": 2
}
